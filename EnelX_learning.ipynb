{
 "cells": [
  {
   "cell_type": "markdown",
   "metadata": {},
   "source": [
    "## This code is mainly for:\n",
    "## 1. Cleaning the data \n",
    "## 2. Properly separating(train/test) the data\n",
    "## 3. Data normalization \n",
    "### by German Perea"
   ]
  },
  {
   "cell_type": "code",
   "execution_count": 84,
   "metadata": {},
   "outputs": [],
   "source": [
    "import numpy as np\n",
    "import matplotlib.pyplot as plt\n",
    "import pandas as pd\n",
    "import csv\n",
    "import datetime\n",
    "from sklearn.model_selection import train_test_split\n"
   ]
  },
  {
   "cell_type": "markdown",
   "metadata": {},
   "source": [
    "### The raw data to clean are saved as \n",
    "### 1. logs.csv\n",
    "### 2. amp_data.txt\n",
    "### 3. voltage_data.txt\n"
   ]
  },
  {
   "cell_type": "code",
   "execution_count": 85,
   "metadata": {},
   "outputs": [],
   "source": [
    "# Read the data \n",
    "\n",
    "Logs = pd.read_csv('logs.csv')\n",
    "amps = pd.read_csv('amp_data.txt', header=None)\n",
    "volts = pd.read_csv('voltage_data.txt', header=None)\n",
    "\n",
    "\n",
    "# Make a copy, to prevent changes in the original dataset \n",
    "amp = amps.copy()\n",
    "volt = volts.copy()\n",
    "\n"
   ]
  },
  {
   "cell_type": "code",
   "execution_count": 86,
   "metadata": {},
   "outputs": [],
   "source": [
    "# Column 0 represents Unix time for both amps and volts\n",
    "\n",
    "unix = amp[0]\n",
    "\n",
    "# This converts the Unix time into a Datetime format \n",
    "# The following Converts to \n",
    "\n",
    "x = pd.to_datetime(pd.Series(np.asarray(unix, dtype='datetime64[ms]')))\n",
    "\n",
    "\n",
    "# Convert the time into United States Central time\n",
    "\n",
    "central_time = x.dt.tz_localize(\"UTC\").dt.tz_convert('US/Central')\n",
    "\n",
    "amp['Date'] = central_time\n",
    "\n",
    "# Sanity: check if the Values from Unix values from AMPS and Volts \n",
    "# are the same \n",
    "\n",
    "# Combine Amps and Volts together \n",
    "\n",
    "amp = amp.rename(columns = {1:'Ampere'})\n",
    "\n",
    "he = [str(i).replace(\" \",\"\") for i in volt[1]]\n",
    "\n",
    "# found the mistake, some values of in the amps are actually saved as 'None'\n"
   ]
  },
  {
   "cell_type": "code",
   "execution_count": 87,
   "metadata": {},
   "outputs": [],
   "source": [
    "# There are some values that are none \n",
    "\n",
    "volt1 = volt[[j!='None'for j in he]]\n",
    "\n",
    "volt = np.array(volt1[1], dtype = float)\n"
   ]
  },
  {
   "cell_type": "code",
   "execution_count": 88,
   "metadata": {},
   "outputs": [
    {
     "name": "stderr",
     "output_type": "stream",
     "text": [
      "/Users/germa/anaconda3/lib/python3.7/site-packages/ipykernel_launcher.py:7: SettingWithCopyWarning: \n",
      "A value is trying to be set on a copy of a slice from a DataFrame.\n",
      "Try using .loc[row_indexer,col_indexer] = value instead\n",
      "\n",
      "See the caveats in the documentation: http://pandas.pydata.org/pandas-docs/stable/indexing.html#indexing-view-versus-copy\n",
      "  import sys\n",
      "/Users/germa/anaconda3/lib/python3.7/site-packages/ipykernel_launcher.py:8: SettingWithCopyWarning: \n",
      "A value is trying to be set on a copy of a slice from a DataFrame.\n",
      "Try using .loc[row_indexer,col_indexer] = value instead\n",
      "\n",
      "See the caveats in the documentation: http://pandas.pydata.org/pandas-docs/stable/indexing.html#indexing-view-versus-copy\n",
      "  \n"
     ]
    },
    {
     "data": {
      "text/html": [
       "<div>\n",
       "<style scoped>\n",
       "    .dataframe tbody tr th:only-of-type {\n",
       "        vertical-align: middle;\n",
       "    }\n",
       "\n",
       "    .dataframe tbody tr th {\n",
       "        vertical-align: top;\n",
       "    }\n",
       "\n",
       "    .dataframe thead th {\n",
       "        text-align: right;\n",
       "    }\n",
       "</style>\n",
       "<table border=\"1\" class=\"dataframe\">\n",
       "  <thead>\n",
       "    <tr style=\"text-align: right;\">\n",
       "      <th></th>\n",
       "      <th>0</th>\n",
       "      <th>Ampere</th>\n",
       "      <th>Date</th>\n",
       "      <th>Voltage</th>\n",
       "    </tr>\n",
       "  </thead>\n",
       "  <tbody>\n",
       "    <tr>\n",
       "      <th>0</th>\n",
       "      <td>1554076800000</td>\n",
       "      <td>686.70</td>\n",
       "      <td>2019-03-31 19:00:00-05:00</td>\n",
       "      <td>593.0</td>\n",
       "    </tr>\n",
       "    <tr>\n",
       "      <th>1</th>\n",
       "      <td>1554077100000</td>\n",
       "      <td>684.08</td>\n",
       "      <td>2019-03-31 19:05:00-05:00</td>\n",
       "      <td>592.0</td>\n",
       "    </tr>\n",
       "    <tr>\n",
       "      <th>2</th>\n",
       "      <td>1554077400000</td>\n",
       "      <td>654.49</td>\n",
       "      <td>2019-03-31 19:10:00-05:00</td>\n",
       "      <td>593.6</td>\n",
       "    </tr>\n",
       "    <tr>\n",
       "      <th>3</th>\n",
       "      <td>1554077700000</td>\n",
       "      <td>670.80</td>\n",
       "      <td>2019-03-31 19:15:00-05:00</td>\n",
       "      <td>592.0</td>\n",
       "    </tr>\n",
       "    <tr>\n",
       "      <th>4</th>\n",
       "      <td>1554078000000</td>\n",
       "      <td>651.67</td>\n",
       "      <td>2019-03-31 19:20:00-05:00</td>\n",
       "      <td>592.3</td>\n",
       "    </tr>\n",
       "  </tbody>\n",
       "</table>\n",
       "</div>"
      ],
      "text/plain": [
       "               0  Ampere                      Date  Voltage\n",
       "0  1554076800000  686.70 2019-03-31 19:00:00-05:00    593.0\n",
       "1  1554077100000  684.08 2019-03-31 19:05:00-05:00    592.0\n",
       "2  1554077400000  654.49 2019-03-31 19:10:00-05:00    593.6\n",
       "3  1554077700000  670.80 2019-03-31 19:15:00-05:00    592.0\n",
       "4  1554078000000  651.67 2019-03-31 19:20:00-05:00    592.3"
      ]
     },
     "execution_count": 88,
     "metadata": {},
     "output_type": "execute_result"
    }
   ],
   "source": [
    "# \n",
    "cl = [str(i).replace(\" \",\"\") for i in amp['Ampere']]\n",
    "\n",
    "# Add the Voltage and Ampere columns\n",
    "\n",
    "amp1 = amp[[k!='None' for k in cl]]\n",
    "amp1['Ampere'] = np.array(amp1['Ampere'], dtype = float)\n",
    "amp1['Voltage'] = volt\n",
    "amp1.head()\n",
    "\n"
   ]
  },
  {
   "cell_type": "code",
   "execution_count": 89,
   "metadata": {},
   "outputs": [],
   "source": [
    "amp_and_vol = amp1\n",
    "amp_and_vol = amp_and_vol.drop(columns = [0])\n",
    "\n",
    "# Make a copy of the original data \n",
    "\n",
    "modified_log = Logs.copy()\n",
    "modified_log = modified_log.drop(columns = 'Unnamed: 0')\n",
    "\n",
    "\n",
    "# ts: is in ts(timestime: in central time)\n",
    "# Battery: positive values stand for charging \n",
    "\n",
    "modified_log['ts'] = pd.to_datetime(pd.Series(np.asarray(modified_log['ts'], dtype='datetime64[s]')))\n",
    "# This is to match the correct \n",
    "# data format from Logs\n",
    "amp_and_vol['Date'] = pd.to_datetime(amp_and_vol['Date'].dt.strftime(('%B %d, %Y, %r')))\n",
    "\n",
    "\n",
    "\n"
   ]
  },
  {
   "cell_type": "code",
   "execution_count": 90,
   "metadata": {},
   "outputs": [],
   "source": [
    "# Let's join the data based on the DataFrame where we know the State of Charge\n",
    "\n",
    "# There are values where we don't have Amps and Voltage for the original data\n",
    "# The original values with SOC is 40427, but not all SOC have AMPS and Volts\n",
    "# We will drop these values: After dropping missing values, we have 34627 rows left \n",
    "\n",
    "modified = modified_log.join(amp_and_vol.set_index('Date'), on='ts').dropna().reset_index(drop=True)\n",
    "\n",
    "\n"
   ]
  },
  {
   "cell_type": "markdown",
   "metadata": {},
   "source": [
    "## Train Test Split process"
   ]
  },
  {
   "cell_type": "code",
   "execution_count": 91,
   "metadata": {},
   "outputs": [],
   "source": [
    "X = modified \n",
    "\n",
    "X = X.rename(columns = {'Battery': 'Battery(kW)', 'building': 'Building(kW)', 'Adjusted Load': 'Adjusted Load (kW)'})\n",
    "\n",
    "\n",
    "# Drop the rows in which the building has Negative Power\n",
    "\n",
    "X = X[X['Building(kW)']>0]\n"
   ]
  },
  {
   "cell_type": "markdown",
   "metadata": {},
   "source": [
    "### Correlation Plotting"
   ]
  },
  {
   "cell_type": "markdown",
   "metadata": {},
   "source": [
    "### Nonlinear autoregressive exogenous model\n",
    "\n",
    "Exogenous inputs (the model relates the current value of a time)\n",
    "\n",
    "1. Past values of the same series \n",
    "2. Current and past values of the driving (exogenous) series — that is, of the externally determined series that influences the series of interest.\n",
    "\n",
    "\n",
    "documentation on how to use NARX in Python:\n",
    "\n",
    "https://firets.readthedocs.io/en/latest/models.html\n",
    "\n",
    "parameters:\n",
    "\n",
    "https://pypi.org/project/fireTS/\n"
   ]
  },
  {
   "cell_type": "code",
   "execution_count": 92,
   "metadata": {},
   "outputs": [],
   "source": [
    "X['deltaSOC'] = X[['State of Charge']].diff(1, axis=0)['State of Charge']\n"
   ]
  },
  {
   "cell_type": "code",
   "execution_count": 93,
   "metadata": {},
   "outputs": [
    {
     "data": {
      "text/plain": [
       "<matplotlib.legend.Legend at 0x7f94e57cbdd8>"
      ]
     },
     "execution_count": 93,
     "metadata": {},
     "output_type": "execute_result"
    },
    {
     "data": {
      "image/png": "[encoded data removed]",
      "text/plain": [
       "<Figure size 432x288 with 1 Axes>"
      ]
     },
     "metadata": {
      "needs_background": "light"
     },
     "output_type": "display_data"
    }
   ],
   "source": [
    "# Recommend \n",
    "plt.scatter(np.arange(len(X)),X['deltaSOC'][0:len(X)])\n",
    "#plt.plot(np.arange(len(X)),X['State of Charge'][0:len(X)])\n",
    "plt.xlabel('Row in data')\n",
    "plt.ylabel('Y')\n",
    "plt.legend(['deltaSOC'])\n",
    "#plt.title('SOC and deltaSOC')\n",
    "\n",
    "\n"
   ]
  },
  {
   "cell_type": "code",
   "execution_count": 95,
   "metadata": {},
   "outputs": [
    {
     "data": {
      "text/plain": [
       "Text(0.5, 1.0, 'Power')"
      ]
     },
     "execution_count": 95,
     "metadata": {},
     "output_type": "execute_result"
    },
    {
     "data": {
      "image/png": "[encoded data removed]",
      "text/plain": [
       "<Figure size 432x288 with 1 Axes>"
      ]
     },
     "metadata": {
      "needs_background": "light"
     },
     "output_type": "display_data"
    }
   ],
   "source": [
    "plt.plot(np.arange(len(X)),X['Battery(kW)'][0:len(X)])\n",
    "plt.ylabel('Battery(kW)')\n",
    "plt.xlabel('Row in data')\n",
    "plt.title('Power')\n"
   ]
  },
  {
   "cell_type": "code",
   "execution_count": 96,
   "metadata": {},
   "outputs": [
    {
     "data": {
      "text/plain": [
       "Text(0.5, 1.0, 'Power')"
      ]
     },
     "execution_count": 96,
     "metadata": {},
     "output_type": "execute_result"
    },
    {
     "data": {
      "image/png": "[encoded data removed]",
      "text/plain": [
       "<Figure size 432x288 with 1 Axes>"
      ]
     },
     "metadata": {
      "needs_background": "light"
     },
     "output_type": "display_data"
    }
   ],
   "source": [
    "plt.plot(np.arange(len(X)),X['Building(kW)'][0:len(X)])\n",
    "plt.ylabel('Building(kW)')\n",
    "plt.xlabel('Row in data')\n",
    "plt.title('Power')\n",
    "\n"
   ]
  },
  {
   "cell_type": "code",
   "execution_count": 97,
   "metadata": {},
   "outputs": [
    {
     "data": {
      "text/plain": [
       "Text(0.5, 1.0, 'Current')"
      ]
     },
     "execution_count": 97,
     "metadata": {},
     "output_type": "execute_result"
    },
    {
     "data": {
      "image/png": "[encoded data removed]",
      "text/plain": [
       "<Figure size 432x288 with 1 Axes>"
      ]
     },
     "metadata": {
      "needs_background": "light"
     },
     "output_type": "display_data"
    }
   ],
   "source": [
    "plt.plot(np.arange(len(X)),X['Ampere'][0:len(X)])\n",
    "plt.ylabel('Current')\n",
    "plt.xlabel('Row in data')\n",
    "plt.title('Current')\n",
    "\n",
    "\n"
   ]
  },
  {
   "cell_type": "markdown",
   "metadata": {},
   "source": [
    "## First need to install NN in your computer "
   ]
  },
  {
   "cell_type": "code",
   "execution_count": 98,
   "metadata": {},
   "outputs": [],
   "source": [
    "# Dropping the first row in data\n",
    "\n",
    "X_new = X.copy()\n",
    "X_new = X_new.iloc[1:]\n",
    "\n"
   ]
  },
  {
   "cell_type": "code",
   "execution_count": 99,
   "metadata": {},
   "outputs": [],
   "source": [
    "# Install neural network \n",
    "# Features Total Net Load (Sum of All Loads excluding Battery)= \n",
    "X_stats = X_new.describe()\n",
    "X_stats = X_stats.transpose()\n"
   ]
  },
  {
   "cell_type": "markdown",
   "metadata": {},
   "source": [
    "## Randomly generate values for each week and month\n",
    "\n"
   ]
  },
  {
   "cell_type": "code",
   "execution_count": 101,
   "metadata": {},
   "outputs": [],
   "source": [
    "def norm(data):\n",
    "    \"\"\"Returns an \"\"\"\n",
    "    return (data - X_stats['mean'])/X_stats['std']\n",
    "\n",
    "def norm3(data):\n",
    "    return (2*(data - X_stats['min'])/(X_stats['max']-X_stats['min']) - 1)\n"
   ]
  },
  {
   "cell_type": "code",
   "execution_count": 102,
   "metadata": {},
   "outputs": [],
   "source": [
    "# normalizing the data \n",
    "norm3(X_new.drop(columns = 'ts'))\n",
    "\n",
    "X_normalized = norm3(X_new.drop(columns = 'ts'))\n"
   ]
  },
  {
   "cell_type": "code",
   "execution_count": 103,
   "metadata": {},
   "outputs": [
    {
     "data": {
      "text/html": [
       "<div>\n",
       "<style scoped>\n",
       "    .dataframe tbody tr th:only-of-type {\n",
       "        vertical-align: middle;\n",
       "    }\n",
       "\n",
       "    .dataframe tbody tr th {\n",
       "        vertical-align: top;\n",
       "    }\n",
       "\n",
       "    .dataframe thead th {\n",
       "        text-align: right;\n",
       "    }\n",
       "</style>\n",
       "<table border=\"1\" class=\"dataframe\">\n",
       "  <thead>\n",
       "    <tr style=\"text-align: right;\">\n",
       "      <th></th>\n",
       "      <th>Battery(kW)</th>\n",
       "      <th>State of Charge</th>\n",
       "      <th>Total Net Load (Sum of All Loads excluding Battery)</th>\n",
       "      <th>Building(kW)</th>\n",
       "      <th>Adjusted Load (kW)</th>\n",
       "      <th>Ampere</th>\n",
       "      <th>Voltage</th>\n",
       "      <th>deltaSOC</th>\n",
       "    </tr>\n",
       "  </thead>\n",
       "  <tbody>\n",
       "    <tr>\n",
       "      <th>1</th>\n",
       "      <td>0.121377</td>\n",
       "      <td>0.171272</td>\n",
       "      <td>0.697911</td>\n",
       "      <td>0.697911</td>\n",
       "      <td>0.813409</td>\n",
       "      <td>0.678746</td>\n",
       "      <td>0.091142</td>\n",
       "      <td>0.013388</td>\n",
       "    </tr>\n",
       "    <tr>\n",
       "      <th>2</th>\n",
       "      <td>0.006420</td>\n",
       "      <td>0.167741</td>\n",
       "      <td>0.714041</td>\n",
       "      <td>0.714041</td>\n",
       "      <td>0.712926</td>\n",
       "      <td>0.567783</td>\n",
       "      <td>0.119384</td>\n",
       "      <td>-0.001765</td>\n",
       "    </tr>\n",
       "    <tr>\n",
       "      <th>3</th>\n",
       "      <td>-0.390134</td>\n",
       "      <td>0.055239</td>\n",
       "      <td>0.670763</td>\n",
       "      <td>0.670763</td>\n",
       "      <td>0.275912</td>\n",
       "      <td>0.065651</td>\n",
       "      <td>0.206675</td>\n",
       "      <td>-0.056255</td>\n",
       "    </tr>\n",
       "    <tr>\n",
       "      <th>4</th>\n",
       "      <td>0.112608</td>\n",
       "      <td>0.084222</td>\n",
       "      <td>0.699128</td>\n",
       "      <td>0.699128</td>\n",
       "      <td>0.805731</td>\n",
       "      <td>0.711337</td>\n",
       "      <td>0.080873</td>\n",
       "      <td>0.014493</td>\n",
       "    </tr>\n",
       "    <tr>\n",
       "      <th>5</th>\n",
       "      <td>0.156146</td>\n",
       "      <td>0.119256</td>\n",
       "      <td>0.668845</td>\n",
       "      <td>0.668845</td>\n",
       "      <td>0.821699</td>\n",
       "      <td>0.099766</td>\n",
       "      <td>0.160462</td>\n",
       "      <td>0.017518</td>\n",
       "    </tr>\n",
       "  </tbody>\n",
       "</table>\n",
       "</div>"
      ],
      "text/plain": [
       "   Battery(kW)  State of Charge  \\\n",
       "1     0.121377         0.171272   \n",
       "2     0.006420         0.167741   \n",
       "3    -0.390134         0.055239   \n",
       "4     0.112608         0.084222   \n",
       "5     0.156146         0.119256   \n",
       "\n",
       "   Total Net Load (Sum of All Loads excluding Battery)  Building(kW)  \\\n",
       "1                                           0.697911        0.697911   \n",
       "2                                           0.714041        0.714041   \n",
       "3                                           0.670763        0.670763   \n",
       "4                                           0.699128        0.699128   \n",
       "5                                           0.668845        0.668845   \n",
       "\n",
       "   Adjusted Load (kW)    Ampere   Voltage  deltaSOC  \n",
       "1            0.813409  0.678746  0.091142  0.013388  \n",
       "2            0.712926  0.567783  0.119384 -0.001765  \n",
       "3            0.275912  0.065651  0.206675 -0.056255  \n",
       "4            0.805731  0.711337  0.080873  0.014493  \n",
       "5            0.821699  0.099766  0.160462  0.017518  "
      ]
     },
     "execution_count": 103,
     "metadata": {},
     "output_type": "execute_result"
    }
   ],
   "source": [
    "X_normalized.head()"
   ]
  },
  {
   "cell_type": "code",
   "execution_count": 104,
   "metadata": {},
   "outputs": [],
   "source": [
    "X['Year'] = X['ts'].dt.year\n",
    "X['Week'] = X['ts'].dt.week\n",
    "X['Hour'] = X['ts'].dt.hour\n",
    "X['Day'] = X['ts'].dt.weekday\n"
   ]
  },
  {
   "cell_type": "code",
   "execution_count": 105,
   "metadata": {},
   "outputs": [],
   "source": [
    "group = X.groupby(['Year','Week','Day']).count()\n"
   ]
  },
  {
   "cell_type": "code",
   "execution_count": 106,
   "metadata": {},
   "outputs": [
    {
     "name": "stderr",
     "output_type": "stream",
     "text": [
      "/Users/germa/anaconda3/lib/python3.7/site-packages/ipykernel_launcher.py:5: UserWarning: Boolean Series key will be reindexed to match DataFrame index.\n",
      "  \"\"\"\n"
     ]
    },
    {
     "data": {
      "text/html": [
       "<div>\n",
       "<style scoped>\n",
       "    .dataframe tbody tr th:only-of-type {\n",
       "        vertical-align: middle;\n",
       "    }\n",
       "\n",
       "    .dataframe tbody tr th {\n",
       "        vertical-align: top;\n",
       "    }\n",
       "\n",
       "    .dataframe thead th {\n",
       "        text-align: right;\n",
       "    }\n",
       "</style>\n",
       "<table border=\"1\" class=\"dataframe\">\n",
       "  <thead>\n",
       "    <tr style=\"text-align: right;\">\n",
       "      <th></th>\n",
       "      <th>Battery(kW)</th>\n",
       "      <th>State of Charge</th>\n",
       "      <th>Total Net Load (Sum of All Loads excluding Battery)</th>\n",
       "      <th>ts</th>\n",
       "      <th>Building(kW)</th>\n",
       "      <th>Adjusted Load (kW)</th>\n",
       "      <th>Ampere</th>\n",
       "      <th>Voltage</th>\n",
       "      <th>deltaSOC</th>\n",
       "      <th>Year</th>\n",
       "      <th>Week</th>\n",
       "      <th>Hour</th>\n",
       "      <th>Day</th>\n",
       "    </tr>\n",
       "  </thead>\n",
       "  <tbody>\n",
       "    <tr>\n",
       "      <th>459</th>\n",
       "      <td>0.000000</td>\n",
       "      <td>0.995694</td>\n",
       "      <td>1804.371576</td>\n",
       "      <td>2019-06-06 00:00:00</td>\n",
       "      <td>1804.371576</td>\n",
       "      <td>1804.371576</td>\n",
       "      <td>1839.53</td>\n",
       "      <td>583.4</td>\n",
       "      <td>-0.000026</td>\n",
       "      <td>2019</td>\n",
       "      <td>23</td>\n",
       "      <td>0</td>\n",
       "      <td>3</td>\n",
       "    </tr>\n",
       "    <tr>\n",
       "      <th>460</th>\n",
       "      <td>0.400004</td>\n",
       "      <td>0.995680</td>\n",
       "      <td>1850.625828</td>\n",
       "      <td>2019-06-06 00:15:00</td>\n",
       "      <td>1850.625828</td>\n",
       "      <td>1851.025832</td>\n",
       "      <td>1800.75</td>\n",
       "      <td>586.7</td>\n",
       "      <td>-0.000014</td>\n",
       "      <td>2019</td>\n",
       "      <td>23</td>\n",
       "      <td>0</td>\n",
       "      <td>3</td>\n",
       "    </tr>\n",
       "    <tr>\n",
       "      <th>461</th>\n",
       "      <td>0.000000</td>\n",
       "      <td>0.995634</td>\n",
       "      <td>1831.426420</td>\n",
       "      <td>2019-06-06 00:30:00</td>\n",
       "      <td>1831.426420</td>\n",
       "      <td>1831.426420</td>\n",
       "      <td>1830.21</td>\n",
       "      <td>586.7</td>\n",
       "      <td>-0.000045</td>\n",
       "      <td>2019</td>\n",
       "      <td>23</td>\n",
       "      <td>0</td>\n",
       "      <td>3</td>\n",
       "    </tr>\n",
       "    <tr>\n",
       "      <th>462</th>\n",
       "      <td>0.400005</td>\n",
       "      <td>0.995647</td>\n",
       "      <td>1827.047468</td>\n",
       "      <td>2019-06-06 00:45:00</td>\n",
       "      <td>1827.047468</td>\n",
       "      <td>1827.447473</td>\n",
       "      <td>1764.53</td>\n",
       "      <td>587.5</td>\n",
       "      <td>0.000013</td>\n",
       "      <td>2019</td>\n",
       "      <td>23</td>\n",
       "      <td>0</td>\n",
       "      <td>3</td>\n",
       "    </tr>\n",
       "    <tr>\n",
       "      <th>463</th>\n",
       "      <td>-8.799982</td>\n",
       "      <td>0.994731</td>\n",
       "      <td>1722.654645</td>\n",
       "      <td>2019-06-06 01:00:00</td>\n",
       "      <td>1722.654645</td>\n",
       "      <td>1713.854663</td>\n",
       "      <td>1804.63</td>\n",
       "      <td>586.7</td>\n",
       "      <td>-0.000917</td>\n",
       "      <td>2019</td>\n",
       "      <td>23</td>\n",
       "      <td>1</td>\n",
       "      <td>3</td>\n",
       "    </tr>\n",
       "    <tr>\n",
       "      <th>464</th>\n",
       "      <td>-0.399976</td>\n",
       "      <td>0.994689</td>\n",
       "      <td>1686.017697</td>\n",
       "      <td>2019-06-06 01:15:00</td>\n",
       "      <td>1686.017697</td>\n",
       "      <td>1685.617721</td>\n",
       "      <td>1822.61</td>\n",
       "      <td>585.7</td>\n",
       "      <td>-0.000041</td>\n",
       "      <td>2019</td>\n",
       "      <td>23</td>\n",
       "      <td>1</td>\n",
       "      <td>3</td>\n",
       "    </tr>\n",
       "    <tr>\n",
       "      <th>465</th>\n",
       "      <td>-0.799979</td>\n",
       "      <td>0.994604</td>\n",
       "      <td>1754.753940</td>\n",
       "      <td>2019-06-06 01:30:00</td>\n",
       "      <td>1754.753940</td>\n",
       "      <td>1753.953961</td>\n",
       "      <td>1832.37</td>\n",
       "      <td>586.6</td>\n",
       "      <td>-0.000085</td>\n",
       "      <td>2019</td>\n",
       "      <td>23</td>\n",
       "      <td>1</td>\n",
       "      <td>3</td>\n",
       "    </tr>\n",
       "    <tr>\n",
       "      <th>466</th>\n",
       "      <td>2.400024</td>\n",
       "      <td>0.994840</td>\n",
       "      <td>1792.091732</td>\n",
       "      <td>2019-06-06 01:45:00</td>\n",
       "      <td>1792.091732</td>\n",
       "      <td>1794.491756</td>\n",
       "      <td>1776.90</td>\n",
       "      <td>587.4</td>\n",
       "      <td>0.000236</td>\n",
       "      <td>2019</td>\n",
       "      <td>23</td>\n",
       "      <td>1</td>\n",
       "      <td>3</td>\n",
       "    </tr>\n",
       "    <tr>\n",
       "      <th>467</th>\n",
       "      <td>0.800015</td>\n",
       "      <td>0.994932</td>\n",
       "      <td>1811.006188</td>\n",
       "      <td>2019-06-06 02:00:00</td>\n",
       "      <td>1811.006188</td>\n",
       "      <td>1811.806203</td>\n",
       "      <td>1728.62</td>\n",
       "      <td>589.1</td>\n",
       "      <td>0.000092</td>\n",
       "      <td>2019</td>\n",
       "      <td>23</td>\n",
       "      <td>2</td>\n",
       "      <td>3</td>\n",
       "    </tr>\n",
       "    <tr>\n",
       "      <th>468</th>\n",
       "      <td>9.999998</td>\n",
       "      <td>0.995915</td>\n",
       "      <td>1793.047697</td>\n",
       "      <td>2019-06-06 02:15:00</td>\n",
       "      <td>1793.047697</td>\n",
       "      <td>1803.047694</td>\n",
       "      <td>1804.48</td>\n",
       "      <td>588.0</td>\n",
       "      <td>0.000982</td>\n",
       "      <td>2019</td>\n",
       "      <td>23</td>\n",
       "      <td>2</td>\n",
       "      <td>3</td>\n",
       "    </tr>\n",
       "    <tr>\n",
       "      <th>469</th>\n",
       "      <td>5.599989</td>\n",
       "      <td>0.996458</td>\n",
       "      <td>1747.494049</td>\n",
       "      <td>2019-06-06 02:30:00</td>\n",
       "      <td>1747.494049</td>\n",
       "      <td>1753.094038</td>\n",
       "      <td>1801.53</td>\n",
       "      <td>587.5</td>\n",
       "      <td>0.000543</td>\n",
       "      <td>2019</td>\n",
       "      <td>23</td>\n",
       "      <td>2</td>\n",
       "      <td>3</td>\n",
       "    </tr>\n",
       "    <tr>\n",
       "      <th>470</th>\n",
       "      <td>4.400028</td>\n",
       "      <td>0.996941</td>\n",
       "      <td>1714.335092</td>\n",
       "      <td>2019-06-06 02:45:00</td>\n",
       "      <td>1714.335092</td>\n",
       "      <td>1718.735120</td>\n",
       "      <td>1731.91</td>\n",
       "      <td>589.5</td>\n",
       "      <td>0.000483</td>\n",
       "      <td>2019</td>\n",
       "      <td>23</td>\n",
       "      <td>2</td>\n",
       "      <td>3</td>\n",
       "    </tr>\n",
       "    <tr>\n",
       "      <th>471</th>\n",
       "      <td>3.999964</td>\n",
       "      <td>0.997400</td>\n",
       "      <td>1721.903632</td>\n",
       "      <td>2019-06-06 03:00:00</td>\n",
       "      <td>1721.903632</td>\n",
       "      <td>1725.903597</td>\n",
       "      <td>1751.79</td>\n",
       "      <td>581.3</td>\n",
       "      <td>0.000460</td>\n",
       "      <td>2019</td>\n",
       "      <td>23</td>\n",
       "      <td>3</td>\n",
       "      <td>3</td>\n",
       "    </tr>\n",
       "    <tr>\n",
       "      <th>472</th>\n",
       "      <td>2.800005</td>\n",
       "      <td>0.997755</td>\n",
       "      <td>1715.458084</td>\n",
       "      <td>2019-06-06 03:15:00</td>\n",
       "      <td>1715.458084</td>\n",
       "      <td>1718.258088</td>\n",
       "      <td>1876.20</td>\n",
       "      <td>581.8</td>\n",
       "      <td>0.000355</td>\n",
       "      <td>2019</td>\n",
       "      <td>23</td>\n",
       "      <td>3</td>\n",
       "      <td>3</td>\n",
       "    </tr>\n",
       "    <tr>\n",
       "      <th>473</th>\n",
       "      <td>0.799991</td>\n",
       "      <td>0.997874</td>\n",
       "      <td>1681.224294</td>\n",
       "      <td>2019-06-06 03:30:00</td>\n",
       "      <td>1681.224294</td>\n",
       "      <td>1682.024285</td>\n",
       "      <td>1768.55</td>\n",
       "      <td>582.5</td>\n",
       "      <td>0.000119</td>\n",
       "      <td>2019</td>\n",
       "      <td>23</td>\n",
       "      <td>3</td>\n",
       "      <td>3</td>\n",
       "    </tr>\n",
       "    <tr>\n",
       "      <th>474</th>\n",
       "      <td>2.000004</td>\n",
       "      <td>0.998144</td>\n",
       "      <td>1712.847853</td>\n",
       "      <td>2019-06-06 03:45:00</td>\n",
       "      <td>1712.847853</td>\n",
       "      <td>1714.847858</td>\n",
       "      <td>1762.74</td>\n",
       "      <td>582.7</td>\n",
       "      <td>0.000270</td>\n",
       "      <td>2019</td>\n",
       "      <td>23</td>\n",
       "      <td>3</td>\n",
       "      <td>3</td>\n",
       "    </tr>\n",
       "    <tr>\n",
       "      <th>475</th>\n",
       "      <td>1.599984</td>\n",
       "      <td>0.998531</td>\n",
       "      <td>1750.107929</td>\n",
       "      <td>2019-06-06 04:15:00</td>\n",
       "      <td>1750.107929</td>\n",
       "      <td>1751.707913</td>\n",
       "      <td>1724.24</td>\n",
       "      <td>581.0</td>\n",
       "      <td>0.000387</td>\n",
       "      <td>2019</td>\n",
       "      <td>23</td>\n",
       "      <td>4</td>\n",
       "      <td>3</td>\n",
       "    </tr>\n",
       "    <tr>\n",
       "      <th>476</th>\n",
       "      <td>2.799984</td>\n",
       "      <td>0.998871</td>\n",
       "      <td>1718.582020</td>\n",
       "      <td>2019-06-06 04:30:00</td>\n",
       "      <td>1718.582020</td>\n",
       "      <td>1721.382004</td>\n",
       "      <td>1698.55</td>\n",
       "      <td>579.3</td>\n",
       "      <td>0.000340</td>\n",
       "      <td>2019</td>\n",
       "      <td>23</td>\n",
       "      <td>4</td>\n",
       "      <td>3</td>\n",
       "    </tr>\n",
       "    <tr>\n",
       "      <th>477</th>\n",
       "      <td>1.600005</td>\n",
       "      <td>0.999061</td>\n",
       "      <td>1713.313998</td>\n",
       "      <td>2019-06-06 04:45:00</td>\n",
       "      <td>1713.313998</td>\n",
       "      <td>1714.914003</td>\n",
       "      <td>1722.16</td>\n",
       "      <td>580.5</td>\n",
       "      <td>0.000190</td>\n",
       "      <td>2019</td>\n",
       "      <td>23</td>\n",
       "      <td>4</td>\n",
       "      <td>3</td>\n",
       "    </tr>\n",
       "    <tr>\n",
       "      <th>478</th>\n",
       "      <td>3.599973</td>\n",
       "      <td>0.999422</td>\n",
       "      <td>1724.105799</td>\n",
       "      <td>2019-06-06 05:00:00</td>\n",
       "      <td>1724.105799</td>\n",
       "      <td>1727.705773</td>\n",
       "      <td>1825.84</td>\n",
       "      <td>577.6</td>\n",
       "      <td>0.000361</td>\n",
       "      <td>2019</td>\n",
       "      <td>23</td>\n",
       "      <td>5</td>\n",
       "      <td>3</td>\n",
       "    </tr>\n",
       "    <tr>\n",
       "      <th>479</th>\n",
       "      <td>0.800012</td>\n",
       "      <td>0.999527</td>\n",
       "      <td>1730.200295</td>\n",
       "      <td>2019-06-06 05:15:00</td>\n",
       "      <td>1730.200295</td>\n",
       "      <td>1731.000307</td>\n",
       "      <td>1828.39</td>\n",
       "      <td>581.6</td>\n",
       "      <td>0.000105</td>\n",
       "      <td>2019</td>\n",
       "      <td>23</td>\n",
       "      <td>5</td>\n",
       "      <td>3</td>\n",
       "    </tr>\n",
       "    <tr>\n",
       "      <th>480</th>\n",
       "      <td>0.400004</td>\n",
       "      <td>0.999540</td>\n",
       "      <td>1733.504102</td>\n",
       "      <td>2019-06-06 05:30:00</td>\n",
       "      <td>1733.504102</td>\n",
       "      <td>1733.904106</td>\n",
       "      <td>1881.85</td>\n",
       "      <td>579.0</td>\n",
       "      <td>0.000013</td>\n",
       "      <td>2019</td>\n",
       "      <td>23</td>\n",
       "      <td>5</td>\n",
       "      <td>3</td>\n",
       "    </tr>\n",
       "    <tr>\n",
       "      <th>481</th>\n",
       "      <td>0.000000</td>\n",
       "      <td>0.999489</td>\n",
       "      <td>1714.667982</td>\n",
       "      <td>2019-06-06 05:45:00</td>\n",
       "      <td>1714.667982</td>\n",
       "      <td>1714.667982</td>\n",
       "      <td>2020.49</td>\n",
       "      <td>580.4</td>\n",
       "      <td>-0.000051</td>\n",
       "      <td>2019</td>\n",
       "      <td>23</td>\n",
       "      <td>5</td>\n",
       "      <td>3</td>\n",
       "    </tr>\n",
       "    <tr>\n",
       "      <th>482</th>\n",
       "      <td>0.800000</td>\n",
       "      <td>0.999494</td>\n",
       "      <td>1696.409767</td>\n",
       "      <td>2019-06-06 06:00:00</td>\n",
       "      <td>1696.409767</td>\n",
       "      <td>1697.209767</td>\n",
       "      <td>2036.37</td>\n",
       "      <td>579.8</td>\n",
       "      <td>0.000005</td>\n",
       "      <td>2019</td>\n",
       "      <td>23</td>\n",
       "      <td>6</td>\n",
       "      <td>3</td>\n",
       "    </tr>\n",
       "    <tr>\n",
       "      <th>483</th>\n",
       "      <td>0.000007</td>\n",
       "      <td>0.999470</td>\n",
       "      <td>1685.728167</td>\n",
       "      <td>2019-06-06 06:15:00</td>\n",
       "      <td>1685.728167</td>\n",
       "      <td>1685.728173</td>\n",
       "      <td>1815.07</td>\n",
       "      <td>583.8</td>\n",
       "      <td>-0.000023</td>\n",
       "      <td>2019</td>\n",
       "      <td>23</td>\n",
       "      <td>6</td>\n",
       "      <td>3</td>\n",
       "    </tr>\n",
       "    <tr>\n",
       "      <th>484</th>\n",
       "      <td>0.399961</td>\n",
       "      <td>0.999468</td>\n",
       "      <td>1664.784076</td>\n",
       "      <td>2019-06-06 06:30:00</td>\n",
       "      <td>1664.784076</td>\n",
       "      <td>1665.184037</td>\n",
       "      <td>1671.55</td>\n",
       "      <td>583.5</td>\n",
       "      <td>-0.000002</td>\n",
       "      <td>2019</td>\n",
       "      <td>23</td>\n",
       "      <td>6</td>\n",
       "      <td>3</td>\n",
       "    </tr>\n",
       "    <tr>\n",
       "      <th>485</th>\n",
       "      <td>0.799995</td>\n",
       "      <td>0.999452</td>\n",
       "      <td>1690.972121</td>\n",
       "      <td>2019-06-06 06:45:00</td>\n",
       "      <td>1690.972121</td>\n",
       "      <td>1691.772116</td>\n",
       "      <td>1844.30</td>\n",
       "      <td>580.6</td>\n",
       "      <td>-0.000016</td>\n",
       "      <td>2019</td>\n",
       "      <td>23</td>\n",
       "      <td>6</td>\n",
       "      <td>3</td>\n",
       "    </tr>\n",
       "    <tr>\n",
       "      <th>486</th>\n",
       "      <td>0.000007</td>\n",
       "      <td>0.999437</td>\n",
       "      <td>1694.374203</td>\n",
       "      <td>2019-06-06 07:00:00</td>\n",
       "      <td>1694.374203</td>\n",
       "      <td>1694.374210</td>\n",
       "      <td>1774.42</td>\n",
       "      <td>578.8</td>\n",
       "      <td>-0.000015</td>\n",
       "      <td>2019</td>\n",
       "      <td>23</td>\n",
       "      <td>7</td>\n",
       "      <td>3</td>\n",
       "    </tr>\n",
       "    <tr>\n",
       "      <th>487</th>\n",
       "      <td>1.199985</td>\n",
       "      <td>0.999493</td>\n",
       "      <td>1673.824576</td>\n",
       "      <td>2019-06-06 07:15:00</td>\n",
       "      <td>1673.824576</td>\n",
       "      <td>1675.024561</td>\n",
       "      <td>1953.36</td>\n",
       "      <td>575.4</td>\n",
       "      <td>0.000056</td>\n",
       "      <td>2019</td>\n",
       "      <td>23</td>\n",
       "      <td>7</td>\n",
       "      <td>3</td>\n",
       "    </tr>\n",
       "    <tr>\n",
       "      <th>488</th>\n",
       "      <td>0.800022</td>\n",
       "      <td>0.999508</td>\n",
       "      <td>1672.504047</td>\n",
       "      <td>2019-06-06 07:30:00</td>\n",
       "      <td>1672.504047</td>\n",
       "      <td>1673.304069</td>\n",
       "      <td>1744.96</td>\n",
       "      <td>581.3</td>\n",
       "      <td>0.000015</td>\n",
       "      <td>2019</td>\n",
       "      <td>23</td>\n",
       "      <td>7</td>\n",
       "      <td>3</td>\n",
       "    </tr>\n",
       "    <tr>\n",
       "      <th>...</th>\n",
       "      <td>...</td>\n",
       "      <td>...</td>\n",
       "      <td>...</td>\n",
       "      <td>...</td>\n",
       "      <td>...</td>\n",
       "      <td>...</td>\n",
       "      <td>...</td>\n",
       "      <td>...</td>\n",
       "      <td>...</td>\n",
       "      <td>...</td>\n",
       "      <td>...</td>\n",
       "      <td>...</td>\n",
       "      <td>...</td>\n",
       "    </tr>\n",
       "    <tr>\n",
       "      <th>524</th>\n",
       "      <td>0.000000</td>\n",
       "      <td>0.999140</td>\n",
       "      <td>1663.278585</td>\n",
       "      <td>2019-06-06 16:30:00</td>\n",
       "      <td>1663.278585</td>\n",
       "      <td>1663.278585</td>\n",
       "      <td>1903.88</td>\n",
       "      <td>572.5</td>\n",
       "      <td>-0.000044</td>\n",
       "      <td>2019</td>\n",
       "      <td>23</td>\n",
       "      <td>16</td>\n",
       "      <td>3</td>\n",
       "    </tr>\n",
       "    <tr>\n",
       "      <th>525</th>\n",
       "      <td>0.000000</td>\n",
       "      <td>0.999091</td>\n",
       "      <td>1610.344272</td>\n",
       "      <td>2019-06-06 16:45:00</td>\n",
       "      <td>1610.344272</td>\n",
       "      <td>1610.344272</td>\n",
       "      <td>1857.85</td>\n",
       "      <td>573.5</td>\n",
       "      <td>-0.000049</td>\n",
       "      <td>2019</td>\n",
       "      <td>23</td>\n",
       "      <td>16</td>\n",
       "      <td>3</td>\n",
       "    </tr>\n",
       "    <tr>\n",
       "      <th>526</th>\n",
       "      <td>0.399979</td>\n",
       "      <td>0.999071</td>\n",
       "      <td>1589.022071</td>\n",
       "      <td>2019-06-06 17:00:00</td>\n",
       "      <td>1589.022071</td>\n",
       "      <td>1589.422050</td>\n",
       "      <td>1810.28</td>\n",
       "      <td>574.9</td>\n",
       "      <td>-0.000020</td>\n",
       "      <td>2019</td>\n",
       "      <td>23</td>\n",
       "      <td>17</td>\n",
       "      <td>3</td>\n",
       "    </tr>\n",
       "    <tr>\n",
       "      <th>527</th>\n",
       "      <td>-0.800005</td>\n",
       "      <td>0.999023</td>\n",
       "      <td>1527.620563</td>\n",
       "      <td>2019-06-06 17:15:00</td>\n",
       "      <td>1527.620563</td>\n",
       "      <td>1526.820557</td>\n",
       "      <td>1942.64</td>\n",
       "      <td>575.0</td>\n",
       "      <td>-0.000049</td>\n",
       "      <td>2019</td>\n",
       "      <td>23</td>\n",
       "      <td>17</td>\n",
       "      <td>3</td>\n",
       "    </tr>\n",
       "    <tr>\n",
       "      <th>528</th>\n",
       "      <td>0.000000</td>\n",
       "      <td>0.998951</td>\n",
       "      <td>1607.793572</td>\n",
       "      <td>2019-06-06 17:30:00</td>\n",
       "      <td>1607.793572</td>\n",
       "      <td>1607.793572</td>\n",
       "      <td>1904.93</td>\n",
       "      <td>576.0</td>\n",
       "      <td>-0.000072</td>\n",
       "      <td>2019</td>\n",
       "      <td>23</td>\n",
       "      <td>17</td>\n",
       "      <td>3</td>\n",
       "    </tr>\n",
       "    <tr>\n",
       "      <th>529</th>\n",
       "      <td>0.399995</td>\n",
       "      <td>0.998887</td>\n",
       "      <td>1711.673510</td>\n",
       "      <td>2019-06-06 17:45:00</td>\n",
       "      <td>1711.673510</td>\n",
       "      <td>1712.073505</td>\n",
       "      <td>1862.98</td>\n",
       "      <td>576.7</td>\n",
       "      <td>-0.000064</td>\n",
       "      <td>2019</td>\n",
       "      <td>23</td>\n",
       "      <td>17</td>\n",
       "      <td>3</td>\n",
       "    </tr>\n",
       "    <tr>\n",
       "      <th>530</th>\n",
       "      <td>0.000000</td>\n",
       "      <td>0.998907</td>\n",
       "      <td>1737.185759</td>\n",
       "      <td>2019-06-06 18:00:00</td>\n",
       "      <td>1737.185759</td>\n",
       "      <td>1737.185759</td>\n",
       "      <td>1862.52</td>\n",
       "      <td>577.5</td>\n",
       "      <td>0.000020</td>\n",
       "      <td>2019</td>\n",
       "      <td>23</td>\n",
       "      <td>18</td>\n",
       "      <td>3</td>\n",
       "    </tr>\n",
       "    <tr>\n",
       "      <th>531</th>\n",
       "      <td>-36.800090</td>\n",
       "      <td>0.996665</td>\n",
       "      <td>1738.612802</td>\n",
       "      <td>2019-06-06 18:15:00</td>\n",
       "      <td>1738.612802</td>\n",
       "      <td>1701.812712</td>\n",
       "      <td>1924.57</td>\n",
       "      <td>576.0</td>\n",
       "      <td>-0.002242</td>\n",
       "      <td>2019</td>\n",
       "      <td>23</td>\n",
       "      <td>18</td>\n",
       "      <td>3</td>\n",
       "    </tr>\n",
       "    <tr>\n",
       "      <th>532</th>\n",
       "      <td>-103.599903</td>\n",
       "      <td>0.985533</td>\n",
       "      <td>1809.531487</td>\n",
       "      <td>2019-06-06 18:30:00</td>\n",
       "      <td>1809.531487</td>\n",
       "      <td>1705.931584</td>\n",
       "      <td>1874.60</td>\n",
       "      <td>577.4</td>\n",
       "      <td>-0.011132</td>\n",
       "      <td>2019</td>\n",
       "      <td>23</td>\n",
       "      <td>18</td>\n",
       "      <td>3</td>\n",
       "    </tr>\n",
       "    <tr>\n",
       "      <th>533</th>\n",
       "      <td>-112.401028</td>\n",
       "      <td>0.973597</td>\n",
       "      <td>1813.014444</td>\n",
       "      <td>2019-06-06 18:45:00</td>\n",
       "      <td>1813.014444</td>\n",
       "      <td>1700.613417</td>\n",
       "      <td>1880.70</td>\n",
       "      <td>577.1</td>\n",
       "      <td>-0.011936</td>\n",
       "      <td>2019</td>\n",
       "      <td>23</td>\n",
       "      <td>18</td>\n",
       "      <td>3</td>\n",
       "    </tr>\n",
       "    <tr>\n",
       "      <th>534</th>\n",
       "      <td>-157.599820</td>\n",
       "      <td>0.956819</td>\n",
       "      <td>1858.920394</td>\n",
       "      <td>2019-06-06 19:00:00</td>\n",
       "      <td>1858.920394</td>\n",
       "      <td>1701.320573</td>\n",
       "      <td>1815.20</td>\n",
       "      <td>579.8</td>\n",
       "      <td>-0.016777</td>\n",
       "      <td>2019</td>\n",
       "      <td>23</td>\n",
       "      <td>19</td>\n",
       "      <td>3</td>\n",
       "    </tr>\n",
       "    <tr>\n",
       "      <th>535</th>\n",
       "      <td>-154.399045</td>\n",
       "      <td>0.940342</td>\n",
       "      <td>1856.281600</td>\n",
       "      <td>2019-06-06 19:15:00</td>\n",
       "      <td>1856.281600</td>\n",
       "      <td>1701.882555</td>\n",
       "      <td>1852.47</td>\n",
       "      <td>580.6</td>\n",
       "      <td>-0.016477</td>\n",
       "      <td>2019</td>\n",
       "      <td>23</td>\n",
       "      <td>19</td>\n",
       "      <td>3</td>\n",
       "    </tr>\n",
       "    <tr>\n",
       "      <th>536</th>\n",
       "      <td>-156.800664</td>\n",
       "      <td>0.923545</td>\n",
       "      <td>1871.520633</td>\n",
       "      <td>2019-06-06 19:30:00</td>\n",
       "      <td>1871.520633</td>\n",
       "      <td>1714.719969</td>\n",
       "      <td>1914.27</td>\n",
       "      <td>580.3</td>\n",
       "      <td>-0.016797</td>\n",
       "      <td>2019</td>\n",
       "      <td>23</td>\n",
       "      <td>19</td>\n",
       "      <td>3</td>\n",
       "    </tr>\n",
       "    <tr>\n",
       "      <th>537</th>\n",
       "      <td>-142.400110</td>\n",
       "      <td>0.908700</td>\n",
       "      <td>1862.956787</td>\n",
       "      <td>2019-06-06 19:45:00</td>\n",
       "      <td>1862.956787</td>\n",
       "      <td>1720.556677</td>\n",
       "      <td>1860.51</td>\n",
       "      <td>583.5</td>\n",
       "      <td>-0.014845</td>\n",
       "      <td>2019</td>\n",
       "      <td>23</td>\n",
       "      <td>19</td>\n",
       "      <td>3</td>\n",
       "    </tr>\n",
       "    <tr>\n",
       "      <th>538</th>\n",
       "      <td>-133.599917</td>\n",
       "      <td>0.894455</td>\n",
       "      <td>1864.929599</td>\n",
       "      <td>2019-06-06 20:00:00</td>\n",
       "      <td>1864.929599</td>\n",
       "      <td>1731.329683</td>\n",
       "      <td>1875.18</td>\n",
       "      <td>582.6</td>\n",
       "      <td>-0.014245</td>\n",
       "      <td>2019</td>\n",
       "      <td>23</td>\n",
       "      <td>20</td>\n",
       "      <td>3</td>\n",
       "    </tr>\n",
       "    <tr>\n",
       "      <th>539</th>\n",
       "      <td>-146.799985</td>\n",
       "      <td>0.879039</td>\n",
       "      <td>1858.136343</td>\n",
       "      <td>2019-06-06 20:15:00</td>\n",
       "      <td>1858.136343</td>\n",
       "      <td>1711.336358</td>\n",
       "      <td>1831.08</td>\n",
       "      <td>584.9</td>\n",
       "      <td>-0.015416</td>\n",
       "      <td>2019</td>\n",
       "      <td>23</td>\n",
       "      <td>20</td>\n",
       "      <td>3</td>\n",
       "    </tr>\n",
       "    <tr>\n",
       "      <th>540</th>\n",
       "      <td>-153.999838</td>\n",
       "      <td>0.862742</td>\n",
       "      <td>1853.565921</td>\n",
       "      <td>2019-06-06 20:30:00</td>\n",
       "      <td>1853.565921</td>\n",
       "      <td>1699.566083</td>\n",
       "      <td>1890.93</td>\n",
       "      <td>584.2</td>\n",
       "      <td>-0.016297</td>\n",
       "      <td>2019</td>\n",
       "      <td>23</td>\n",
       "      <td>20</td>\n",
       "      <td>3</td>\n",
       "    </tr>\n",
       "    <tr>\n",
       "      <th>541</th>\n",
       "      <td>-165.600115</td>\n",
       "      <td>0.845144</td>\n",
       "      <td>1857.947746</td>\n",
       "      <td>2019-06-06 20:45:00</td>\n",
       "      <td>1857.947746</td>\n",
       "      <td>1692.347631</td>\n",
       "      <td>1837.19</td>\n",
       "      <td>584.4</td>\n",
       "      <td>-0.017598</td>\n",
       "      <td>2019</td>\n",
       "      <td>23</td>\n",
       "      <td>20</td>\n",
       "      <td>3</td>\n",
       "    </tr>\n",
       "    <tr>\n",
       "      <th>542</th>\n",
       "      <td>-116.399975</td>\n",
       "      <td>0.833108</td>\n",
       "      <td>1828.893638</td>\n",
       "      <td>2019-06-06 21:00:00</td>\n",
       "      <td>1828.893638</td>\n",
       "      <td>1712.493663</td>\n",
       "      <td>1844.63</td>\n",
       "      <td>586.3</td>\n",
       "      <td>-0.012036</td>\n",
       "      <td>2019</td>\n",
       "      <td>23</td>\n",
       "      <td>21</td>\n",
       "      <td>3</td>\n",
       "    </tr>\n",
       "    <tr>\n",
       "      <th>543</th>\n",
       "      <td>-154.399981</td>\n",
       "      <td>0.816615</td>\n",
       "      <td>1849.651011</td>\n",
       "      <td>2019-06-06 21:15:00</td>\n",
       "      <td>1849.651011</td>\n",
       "      <td>1695.251030</td>\n",
       "      <td>1933.73</td>\n",
       "      <td>586.0</td>\n",
       "      <td>-0.016493</td>\n",
       "      <td>2019</td>\n",
       "      <td>23</td>\n",
       "      <td>21</td>\n",
       "      <td>3</td>\n",
       "    </tr>\n",
       "    <tr>\n",
       "      <th>544</th>\n",
       "      <td>-149.599999</td>\n",
       "      <td>0.800823</td>\n",
       "      <td>1851.844330</td>\n",
       "      <td>2019-06-06 21:30:00</td>\n",
       "      <td>1851.844330</td>\n",
       "      <td>1702.244332</td>\n",
       "      <td>1878.32</td>\n",
       "      <td>587.3</td>\n",
       "      <td>-0.015792</td>\n",
       "      <td>2019</td>\n",
       "      <td>23</td>\n",
       "      <td>21</td>\n",
       "      <td>3</td>\n",
       "    </tr>\n",
       "    <tr>\n",
       "      <th>545</th>\n",
       "      <td>-126.800013</td>\n",
       "      <td>0.787511</td>\n",
       "      <td>1839.831015</td>\n",
       "      <td>2019-06-06 21:45:00</td>\n",
       "      <td>1839.831015</td>\n",
       "      <td>1713.031002</td>\n",
       "      <td>1929.59</td>\n",
       "      <td>586.3</td>\n",
       "      <td>-0.013312</td>\n",
       "      <td>2019</td>\n",
       "      <td>23</td>\n",
       "      <td>21</td>\n",
       "      <td>3</td>\n",
       "    </tr>\n",
       "    <tr>\n",
       "      <th>546</th>\n",
       "      <td>-116.799868</td>\n",
       "      <td>0.775237</td>\n",
       "      <td>1827.813633</td>\n",
       "      <td>2019-06-06 22:00:00</td>\n",
       "      <td>1827.813633</td>\n",
       "      <td>1711.013764</td>\n",
       "      <td>1950.32</td>\n",
       "      <td>590.2</td>\n",
       "      <td>-0.012274</td>\n",
       "      <td>2019</td>\n",
       "      <td>23</td>\n",
       "      <td>22</td>\n",
       "      <td>3</td>\n",
       "    </tr>\n",
       "    <tr>\n",
       "      <th>547</th>\n",
       "      <td>-115.600034</td>\n",
       "      <td>0.763077</td>\n",
       "      <td>1846.192303</td>\n",
       "      <td>2019-06-06 22:15:00</td>\n",
       "      <td>1846.192303</td>\n",
       "      <td>1730.592269</td>\n",
       "      <td>1919.76</td>\n",
       "      <td>591.0</td>\n",
       "      <td>-0.012160</td>\n",
       "      <td>2019</td>\n",
       "      <td>23</td>\n",
       "      <td>22</td>\n",
       "      <td>3</td>\n",
       "    </tr>\n",
       "    <tr>\n",
       "      <th>548</th>\n",
       "      <td>-112.800131</td>\n",
       "      <td>0.751226</td>\n",
       "      <td>1842.962677</td>\n",
       "      <td>2019-06-06 22:30:00</td>\n",
       "      <td>1842.962677</td>\n",
       "      <td>1730.162546</td>\n",
       "      <td>1979.24</td>\n",
       "      <td>586.6</td>\n",
       "      <td>-0.011851</td>\n",
       "      <td>2019</td>\n",
       "      <td>23</td>\n",
       "      <td>22</td>\n",
       "      <td>3</td>\n",
       "    </tr>\n",
       "    <tr>\n",
       "      <th>549</th>\n",
       "      <td>-113.999980</td>\n",
       "      <td>0.739077</td>\n",
       "      <td>1846.772954</td>\n",
       "      <td>2019-06-06 22:45:00</td>\n",
       "      <td>1846.772954</td>\n",
       "      <td>1732.772974</td>\n",
       "      <td>1957.25</td>\n",
       "      <td>589.7</td>\n",
       "      <td>-0.012149</td>\n",
       "      <td>2019</td>\n",
       "      <td>23</td>\n",
       "      <td>22</td>\n",
       "      <td>3</td>\n",
       "    </tr>\n",
       "    <tr>\n",
       "      <th>550</th>\n",
       "      <td>-127.200001</td>\n",
       "      <td>0.725701</td>\n",
       "      <td>1858.246022</td>\n",
       "      <td>2019-06-06 23:00:00</td>\n",
       "      <td>1858.246022</td>\n",
       "      <td>1731.046021</td>\n",
       "      <td>1943.52</td>\n",
       "      <td>587.5</td>\n",
       "      <td>-0.013376</td>\n",
       "      <td>2019</td>\n",
       "      <td>23</td>\n",
       "      <td>23</td>\n",
       "      <td>3</td>\n",
       "    </tr>\n",
       "    <tr>\n",
       "      <th>551</th>\n",
       "      <td>-122.799854</td>\n",
       "      <td>0.712853</td>\n",
       "      <td>1852.520240</td>\n",
       "      <td>2019-06-06 23:15:00</td>\n",
       "      <td>1852.520240</td>\n",
       "      <td>1729.720386</td>\n",
       "      <td>1890.61</td>\n",
       "      <td>589.9</td>\n",
       "      <td>-0.012848</td>\n",
       "      <td>2019</td>\n",
       "      <td>23</td>\n",
       "      <td>23</td>\n",
       "      <td>3</td>\n",
       "    </tr>\n",
       "    <tr>\n",
       "      <th>552</th>\n",
       "      <td>-122.000136</td>\n",
       "      <td>0.699968</td>\n",
       "      <td>1855.944718</td>\n",
       "      <td>2019-06-06 23:30:00</td>\n",
       "      <td>1855.944718</td>\n",
       "      <td>1733.944582</td>\n",
       "      <td>1939.06</td>\n",
       "      <td>589.7</td>\n",
       "      <td>-0.012885</td>\n",
       "      <td>2019</td>\n",
       "      <td>23</td>\n",
       "      <td>23</td>\n",
       "      <td>3</td>\n",
       "    </tr>\n",
       "    <tr>\n",
       "      <th>553</th>\n",
       "      <td>-94.399374</td>\n",
       "      <td>0.689831</td>\n",
       "      <td>1837.635952</td>\n",
       "      <td>2019-06-06 23:45:00</td>\n",
       "      <td>1837.635952</td>\n",
       "      <td>1743.236578</td>\n",
       "      <td>1920.73</td>\n",
       "      <td>591.4</td>\n",
       "      <td>-0.010137</td>\n",
       "      <td>2019</td>\n",
       "      <td>23</td>\n",
       "      <td>23</td>\n",
       "      <td>3</td>\n",
       "    </tr>\n",
       "  </tbody>\n",
       "</table>\n",
       "<p>95 rows × 13 columns</p>\n",
       "</div>"
      ],
      "text/plain": [
       "     Battery(kW)  State of Charge  \\\n",
       "459     0.000000         0.995694   \n",
       "460     0.400004         0.995680   \n",
       "461     0.000000         0.995634   \n",
       "462     0.400005         0.995647   \n",
       "463    -8.799982         0.994731   \n",
       "464    -0.399976         0.994689   \n",
       "465    -0.799979         0.994604   \n",
       "466     2.400024         0.994840   \n",
       "467     0.800015         0.994932   \n",
       "468     9.999998         0.995915   \n",
       "469     5.599989         0.996458   \n",
       "470     4.400028         0.996941   \n",
       "471     3.999964         0.997400   \n",
       "472     2.800005         0.997755   \n",
       "473     0.799991         0.997874   \n",
       "474     2.000004         0.998144   \n",
       "475     1.599984         0.998531   \n",
       "476     2.799984         0.998871   \n",
       "477     1.600005         0.999061   \n",
       "478     3.599973         0.999422   \n",
       "479     0.800012         0.999527   \n",
       "480     0.400004         0.999540   \n",
       "481     0.000000         0.999489   \n",
       "482     0.800000         0.999494   \n",
       "483     0.000007         0.999470   \n",
       "484     0.399961         0.999468   \n",
       "485     0.799995         0.999452   \n",
       "486     0.000007         0.999437   \n",
       "487     1.199985         0.999493   \n",
       "488     0.800022         0.999508   \n",
       "..           ...              ...   \n",
       "524     0.000000         0.999140   \n",
       "525     0.000000         0.999091   \n",
       "526     0.399979         0.999071   \n",
       "527    -0.800005         0.999023   \n",
       "528     0.000000         0.998951   \n",
       "529     0.399995         0.998887   \n",
       "530     0.000000         0.998907   \n",
       "531   -36.800090         0.996665   \n",
       "532  -103.599903         0.985533   \n",
       "533  -112.401028         0.973597   \n",
       "534  -157.599820         0.956819   \n",
       "535  -154.399045         0.940342   \n",
       "536  -156.800664         0.923545   \n",
       "537  -142.400110         0.908700   \n",
       "538  -133.599917         0.894455   \n",
       "539  -146.799985         0.879039   \n",
       "540  -153.999838         0.862742   \n",
       "541  -165.600115         0.845144   \n",
       "542  -116.399975         0.833108   \n",
       "543  -154.399981         0.816615   \n",
       "544  -149.599999         0.800823   \n",
       "545  -126.800013         0.787511   \n",
       "546  -116.799868         0.775237   \n",
       "547  -115.600034         0.763077   \n",
       "548  -112.800131         0.751226   \n",
       "549  -113.999980         0.739077   \n",
       "550  -127.200001         0.725701   \n",
       "551  -122.799854         0.712853   \n",
       "552  -122.000136         0.699968   \n",
       "553   -94.399374         0.689831   \n",
       "\n",
       "     Total Net Load (Sum of All Loads excluding Battery)                  ts  \\\n",
       "459                                        1804.371576   2019-06-06 00:00:00   \n",
       "460                                        1850.625828   2019-06-06 00:15:00   \n",
       "461                                        1831.426420   2019-06-06 00:30:00   \n",
       "462                                        1827.047468   2019-06-06 00:45:00   \n",
       "463                                        1722.654645   2019-06-06 01:00:00   \n",
       "464                                        1686.017697   2019-06-06 01:15:00   \n",
       "465                                        1754.753940   2019-06-06 01:30:00   \n",
       "466                                        1792.091732   2019-06-06 01:45:00   \n",
       "467                                        1811.006188   2019-06-06 02:00:00   \n",
       "468                                        1793.047697   2019-06-06 02:15:00   \n",
       "469                                        1747.494049   2019-06-06 02:30:00   \n",
       "470                                        1714.335092   2019-06-06 02:45:00   \n",
       "471                                        1721.903632   2019-06-06 03:00:00   \n",
       "472                                        1715.458084   2019-06-06 03:15:00   \n",
       "473                                        1681.224294   2019-06-06 03:30:00   \n",
       "474                                        1712.847853   2019-06-06 03:45:00   \n",
       "475                                        1750.107929   2019-06-06 04:15:00   \n",
       "476                                        1718.582020   2019-06-06 04:30:00   \n",
       "477                                        1713.313998   2019-06-06 04:45:00   \n",
       "478                                        1724.105799   2019-06-06 05:00:00   \n",
       "479                                        1730.200295   2019-06-06 05:15:00   \n",
       "480                                        1733.504102   2019-06-06 05:30:00   \n",
       "481                                        1714.667982   2019-06-06 05:45:00   \n",
       "482                                        1696.409767   2019-06-06 06:00:00   \n",
       "483                                        1685.728167   2019-06-06 06:15:00   \n",
       "484                                        1664.784076   2019-06-06 06:30:00   \n",
       "485                                        1690.972121   2019-06-06 06:45:00   \n",
       "486                                        1694.374203   2019-06-06 07:00:00   \n",
       "487                                        1673.824576   2019-06-06 07:15:00   \n",
       "488                                        1672.504047   2019-06-06 07:30:00   \n",
       "..                                                 ...                   ...   \n",
       "524                                        1663.278585   2019-06-06 16:30:00   \n",
       "525                                        1610.344272   2019-06-06 16:45:00   \n",
       "526                                        1589.022071   2019-06-06 17:00:00   \n",
       "527                                        1527.620563   2019-06-06 17:15:00   \n",
       "528                                        1607.793572   2019-06-06 17:30:00   \n",
       "529                                        1711.673510   2019-06-06 17:45:00   \n",
       "530                                        1737.185759   2019-06-06 18:00:00   \n",
       "531                                        1738.612802   2019-06-06 18:15:00   \n",
       "532                                        1809.531487   2019-06-06 18:30:00   \n",
       "533                                        1813.014444   2019-06-06 18:45:00   \n",
       "534                                        1858.920394   2019-06-06 19:00:00   \n",
       "535                                        1856.281600   2019-06-06 19:15:00   \n",
       "536                                        1871.520633   2019-06-06 19:30:00   \n",
       "537                                        1862.956787   2019-06-06 19:45:00   \n",
       "538                                        1864.929599   2019-06-06 20:00:00   \n",
       "539                                        1858.136343   2019-06-06 20:15:00   \n",
       "540                                        1853.565921   2019-06-06 20:30:00   \n",
       "541                                        1857.947746   2019-06-06 20:45:00   \n",
       "542                                        1828.893638   2019-06-06 21:00:00   \n",
       "543                                        1849.651011   2019-06-06 21:15:00   \n",
       "544                                        1851.844330   2019-06-06 21:30:00   \n",
       "545                                        1839.831015   2019-06-06 21:45:00   \n",
       "546                                        1827.813633   2019-06-06 22:00:00   \n",
       "547                                        1846.192303   2019-06-06 22:15:00   \n",
       "548                                        1842.962677   2019-06-06 22:30:00   \n",
       "549                                        1846.772954   2019-06-06 22:45:00   \n",
       "550                                        1858.246022   2019-06-06 23:00:00   \n",
       "551                                        1852.520240   2019-06-06 23:15:00   \n",
       "552                                        1855.944718   2019-06-06 23:30:00   \n",
       "553                                        1837.635952   2019-06-06 23:45:00   \n",
       "\n",
       "     Building(kW)  Adjusted Load (kW)   Ampere  Voltage  deltaSOC  Year  Week  \\\n",
       "459   1804.371576         1804.371576  1839.53    583.4 -0.000026  2019    23   \n",
       "460   1850.625828         1851.025832  1800.75    586.7 -0.000014  2019    23   \n",
       "461   1831.426420         1831.426420  1830.21    586.7 -0.000045  2019    23   \n",
       "462   1827.047468         1827.447473  1764.53    587.5  0.000013  2019    23   \n",
       "463   1722.654645         1713.854663  1804.63    586.7 -0.000917  2019    23   \n",
       "464   1686.017697         1685.617721  1822.61    585.7 -0.000041  2019    23   \n",
       "465   1754.753940         1753.953961  1832.37    586.6 -0.000085  2019    23   \n",
       "466   1792.091732         1794.491756  1776.90    587.4  0.000236  2019    23   \n",
       "467   1811.006188         1811.806203  1728.62    589.1  0.000092  2019    23   \n",
       "468   1793.047697         1803.047694  1804.48    588.0  0.000982  2019    23   \n",
       "469   1747.494049         1753.094038  1801.53    587.5  0.000543  2019    23   \n",
       "470   1714.335092         1718.735120  1731.91    589.5  0.000483  2019    23   \n",
       "471   1721.903632         1725.903597  1751.79    581.3  0.000460  2019    23   \n",
       "472   1715.458084         1718.258088  1876.20    581.8  0.000355  2019    23   \n",
       "473   1681.224294         1682.024285  1768.55    582.5  0.000119  2019    23   \n",
       "474   1712.847853         1714.847858  1762.74    582.7  0.000270  2019    23   \n",
       "475   1750.107929         1751.707913  1724.24    581.0  0.000387  2019    23   \n",
       "476   1718.582020         1721.382004  1698.55    579.3  0.000340  2019    23   \n",
       "477   1713.313998         1714.914003  1722.16    580.5  0.000190  2019    23   \n",
       "478   1724.105799         1727.705773  1825.84    577.6  0.000361  2019    23   \n",
       "479   1730.200295         1731.000307  1828.39    581.6  0.000105  2019    23   \n",
       "480   1733.504102         1733.904106  1881.85    579.0  0.000013  2019    23   \n",
       "481   1714.667982         1714.667982  2020.49    580.4 -0.000051  2019    23   \n",
       "482   1696.409767         1697.209767  2036.37    579.8  0.000005  2019    23   \n",
       "483   1685.728167         1685.728173  1815.07    583.8 -0.000023  2019    23   \n",
       "484   1664.784076         1665.184037  1671.55    583.5 -0.000002  2019    23   \n",
       "485   1690.972121         1691.772116  1844.30    580.6 -0.000016  2019    23   \n",
       "486   1694.374203         1694.374210  1774.42    578.8 -0.000015  2019    23   \n",
       "487   1673.824576         1675.024561  1953.36    575.4  0.000056  2019    23   \n",
       "488   1672.504047         1673.304069  1744.96    581.3  0.000015  2019    23   \n",
       "..            ...                 ...      ...      ...       ...   ...   ...   \n",
       "524   1663.278585         1663.278585  1903.88    572.5 -0.000044  2019    23   \n",
       "525   1610.344272         1610.344272  1857.85    573.5 -0.000049  2019    23   \n",
       "526   1589.022071         1589.422050  1810.28    574.9 -0.000020  2019    23   \n",
       "527   1527.620563         1526.820557  1942.64    575.0 -0.000049  2019    23   \n",
       "528   1607.793572         1607.793572  1904.93    576.0 -0.000072  2019    23   \n",
       "529   1711.673510         1712.073505  1862.98    576.7 -0.000064  2019    23   \n",
       "530   1737.185759         1737.185759  1862.52    577.5  0.000020  2019    23   \n",
       "531   1738.612802         1701.812712  1924.57    576.0 -0.002242  2019    23   \n",
       "532   1809.531487         1705.931584  1874.60    577.4 -0.011132  2019    23   \n",
       "533   1813.014444         1700.613417  1880.70    577.1 -0.011936  2019    23   \n",
       "534   1858.920394         1701.320573  1815.20    579.8 -0.016777  2019    23   \n",
       "535   1856.281600         1701.882555  1852.47    580.6 -0.016477  2019    23   \n",
       "536   1871.520633         1714.719969  1914.27    580.3 -0.016797  2019    23   \n",
       "537   1862.956787         1720.556677  1860.51    583.5 -0.014845  2019    23   \n",
       "538   1864.929599         1731.329683  1875.18    582.6 -0.014245  2019    23   \n",
       "539   1858.136343         1711.336358  1831.08    584.9 -0.015416  2019    23   \n",
       "540   1853.565921         1699.566083  1890.93    584.2 -0.016297  2019    23   \n",
       "541   1857.947746         1692.347631  1837.19    584.4 -0.017598  2019    23   \n",
       "542   1828.893638         1712.493663  1844.63    586.3 -0.012036  2019    23   \n",
       "543   1849.651011         1695.251030  1933.73    586.0 -0.016493  2019    23   \n",
       "544   1851.844330         1702.244332  1878.32    587.3 -0.015792  2019    23   \n",
       "545   1839.831015         1713.031002  1929.59    586.3 -0.013312  2019    23   \n",
       "546   1827.813633         1711.013764  1950.32    590.2 -0.012274  2019    23   \n",
       "547   1846.192303         1730.592269  1919.76    591.0 -0.012160  2019    23   \n",
       "548   1842.962677         1730.162546  1979.24    586.6 -0.011851  2019    23   \n",
       "549   1846.772954         1732.772974  1957.25    589.7 -0.012149  2019    23   \n",
       "550   1858.246022         1731.046021  1943.52    587.5 -0.013376  2019    23   \n",
       "551   1852.520240         1729.720386  1890.61    589.9 -0.012848  2019    23   \n",
       "552   1855.944718         1733.944582  1939.06    589.7 -0.012885  2019    23   \n",
       "553   1837.635952         1743.236578  1920.73    591.4 -0.010137  2019    23   \n",
       "\n",
       "     Hour  Day  \n",
       "459     0    3  \n",
       "460     0    3  \n",
       "461     0    3  \n",
       "462     0    3  \n",
       "463     1    3  \n",
       "464     1    3  \n",
       "465     1    3  \n",
       "466     1    3  \n",
       "467     2    3  \n",
       "468     2    3  \n",
       "469     2    3  \n",
       "470     2    3  \n",
       "471     3    3  \n",
       "472     3    3  \n",
       "473     3    3  \n",
       "474     3    3  \n",
       "475     4    3  \n",
       "476     4    3  \n",
       "477     4    3  \n",
       "478     5    3  \n",
       "479     5    3  \n",
       "480     5    3  \n",
       "481     5    3  \n",
       "482     6    3  \n",
       "483     6    3  \n",
       "484     6    3  \n",
       "485     6    3  \n",
       "486     7    3  \n",
       "487     7    3  \n",
       "488     7    3  \n",
       "..    ...  ...  \n",
       "524    16    3  \n",
       "525    16    3  \n",
       "526    17    3  \n",
       "527    17    3  \n",
       "528    17    3  \n",
       "529    17    3  \n",
       "530    18    3  \n",
       "531    18    3  \n",
       "532    18    3  \n",
       "533    18    3  \n",
       "534    19    3  \n",
       "535    19    3  \n",
       "536    19    3  \n",
       "537    19    3  \n",
       "538    20    3  \n",
       "539    20    3  \n",
       "540    20    3  \n",
       "541    20    3  \n",
       "542    21    3  \n",
       "543    21    3  \n",
       "544    21    3  \n",
       "545    21    3  \n",
       "546    22    3  \n",
       "547    22    3  \n",
       "548    22    3  \n",
       "549    22    3  \n",
       "550    23    3  \n",
       "551    23    3  \n",
       "552    23    3  \n",
       "553    23    3  \n",
       "\n",
       "[95 rows x 13 columns]"
      ]
     },
     "execution_count": 106,
     "metadata": {},
     "output_type": "execute_result"
    }
   ],
   "source": [
    "# We have 358 days worth of data \n",
    "\n",
    "ty = X[X['Week']==23]\n",
    "\n",
    "ty[X['Day']==3]\n",
    "\n",
    "\n"
   ]
  },
  {
   "cell_type": "markdown",
   "metadata": {},
   "source": [
    "#### This will capture true reprentation\n"
   ]
  },
  {
   "cell_type": "code",
   "execution_count": 107,
   "metadata": {},
   "outputs": [],
   "source": [
    "# Training a NN and do it in Matlab \n",
    "\n",
    "# \n",
    "# Send percentage\n",
    "# Need to know the neurons, loss function, activation, layers\n",
    "\n",
    "X['deltaSOC'].iloc[0] = X['deltaSOC'].iloc[1]"
   ]
  },
  {
   "cell_type": "code",
   "execution_count": 108,
   "metadata": {},
   "outputs": [],
   "source": [
    "gr = X[['Year','Week','Day']].groupby(['Year','Week']).size()\n",
    "\n"
   ]
  },
  {
   "cell_type": "code",
   "execution_count": 109,
   "metadata": {},
   "outputs": [],
   "source": [
    "#X[['Year','Week','Day']].groupby(['Year','Week']).size()\n",
    "\n",
    "# Do it for 1 year first \n",
    "Z = X\n",
    "\n",
    "CV = Z.groupby(['Year','Week','Day']).size(\n",
    ").index.get_level_values(1).value_counts()\n",
    "\n",
    "\n",
    "tu = pd.DataFrame(CV).rename(columns = {'Week':'values'})\n",
    "\n",
    "X = X.join(tu, on = 'Week')\n"
   ]
  },
  {
   "cell_type": "code",
   "execution_count": 110,
   "metadata": {},
   "outputs": [],
   "source": [
    "\n",
    "bo = (X['Year']==2019) & (X['Week']==22)\n",
    "nt = (X['Year']==2020) & (X['Week']==22)\n"
   ]
  },
  {
   "cell_type": "code",
   "execution_count": 111,
   "metadata": {},
   "outputs": [],
   "source": [
    "X.loc[bo, 'values'] = 2\n",
    "X.loc[nt, 'values'] = 7"
   ]
  },
  {
   "cell_type": "code",
   "execution_count": 112,
   "metadata": {},
   "outputs": [],
   "source": [
    "X['date'] = X['ts'].dt.strftime(\"%Y-%m-%d\")\n"
   ]
  },
  {
   "cell_type": "code",
   "execution_count": 113,
   "metadata": {},
   "outputs": [],
   "source": [
    "MN = X\n",
    "bv = MN[['Week', 'values','date']].apply(tuple, axis=1)\n",
    "MN['Triple'] = bv \n",
    "\n",
    "bv2 =  MN[['Week', 'values']].apply(tuple, axis = 1)\n",
    "MN['Pairs'] = bv2\n"
   ]
  },
  {
   "cell_type": "code",
   "execution_count": 114,
   "metadata": {},
   "outputs": [],
   "source": [
    "# This is important \n",
    "L = MN['Triple'].unique()\n",
    "\n",
    "\n"
   ]
  },
  {
   "cell_type": "code",
   "execution_count": 115,
   "metadata": {},
   "outputs": [],
   "source": [
    "# [list(j) for j in bv.unique()]\n",
    "\n",
    "#[i[1] for i in bv.unique()]\n",
    "#MN['date'].unique()\n",
    "\n",
    "el = pd.DataFrame({'We':[x[0] for x in L], 'Va': [x[1] for x in L], 'Date': [x[2] for x in L]})\n",
    "\n",
    "\n"
   ]
  },
  {
   "cell_type": "code",
   "execution_count": 116,
   "metadata": {},
   "outputs": [],
   "source": [
    "tr = pd.DataFrame(el.groupby(['We','Va']).apply(lambda x: list(x['Date'])))\n",
    "\n",
    " \n"
   ]
  },
  {
   "cell_type": "code",
   "execution_count": 48,
   "metadata": {},
   "outputs": [],
   "source": [
    "table = pd.pivot_table(el, values= 'Date', index=['We'],\n",
    "                    columns=['Va'], aggfunc = lambda x: list(x))\n",
    "\n"
   ]
  },
  {
   "cell_type": "code",
   "execution_count": 117,
   "metadata": {},
   "outputs": [],
   "source": [
    "zero = tr.index.get_level_values(0)\n"
   ]
  },
  {
   "cell_type": "code",
   "execution_count": 118,
   "metadata": {},
   "outputs": [
    {
     "data": {
      "text/plain": [
       "array([(1, 7), (2, 7), (3, 7), (4, 7), (5, 7), (6, 7), (7, 7), (8, 7),\n",
       "       (9, 7), (10, 7), (11, 7), (12, 7), (13, 7), (14, 7), (15, 7),\n",
       "       (16, 7), (17, 7), (18, 7), (19, 7), (20, 7), (21, 7), (22, 2),\n",
       "       (22, 7), (23, 7), (24, 7), (25, 7), (26, 7), (27, 7), (28, 7),\n",
       "       (29, 7), (30, 7), (31, 7), (32, 7), (33, 7), (34, 7), (35, 7),\n",
       "       (36, 7), (37, 7), (38, 7), (39, 2), (40, 6), (41, 7), (42, 7),\n",
       "       (43, 7), (44, 7), (45, 7), (46, 7), (47, 7), (48, 7), (49, 7),\n",
       "       (50, 7), (51, 7), (52, 5)], dtype=object)"
      ]
     },
     "execution_count": 118,
     "metadata": {},
     "output_type": "execute_result"
    }
   ],
   "source": [
    "one = tr.index.get_level_values(1)\n",
    "one\n",
    "gt = pd.DataFrame({'X':zero, 'Y':one}).apply(tuple, axis=1)\n",
    "\n",
    "gt.values\n"
   ]
  },
  {
   "cell_type": "code",
   "execution_count": 119,
   "metadata": {},
   "outputs": [],
   "source": [
    "tr['Pairs'] = gt.values"
   ]
  },
  {
   "cell_type": "code",
   "execution_count": 120,
   "metadata": {},
   "outputs": [],
   "source": [
    "tr = tr.reset_index(drop=True).rename(columns = {0: 'lstDates'})\n",
    "\n"
   ]
  },
  {
   "cell_type": "code",
   "execution_count": 121,
   "metadata": {},
   "outputs": [],
   "source": [
    "# The following is how we are separating the data \n",
    "we = [x[0] for x in tr['Pairs']]\n",
    "days = [x[1] for x in tr['Pairs']]\n",
    "\n"
   ]
  },
  {
   "cell_type": "code",
   "execution_count": 122,
   "metadata": {},
   "outputs": [],
   "source": [
    "def trainSplit(dat):\n",
    "    \"\"\"Returns: dates that are suppose to go with\n",
    "       train data\"\"\"\n",
    "    np.random.seed(40)\n",
    "    train = []\n",
    "    we = [x[0] for x in dat['Pairs']] # the number of weeks\n",
    "    days = [x[1] for x in dat['Pairs']] # the number of days\n",
    "    ch = np.random.choice\n",
    "    for i,j in zip(np.arange(len(we)), days):\n",
    "        if j == 2:\n",
    "            train.extend(ch(dat.iloc[i]['lstDates'], 1, replace = False))\n",
    "            #Weeks with 2 days: extend 1 dates\n",
    "       \n",
    "        elif j == 5:\n",
    "            train.extend(ch(dat.iloc[i]['lstDates'], 3, replace = False))\n",
    "             #Weeks with 5 days: extend 3 dates\n",
    "        \n",
    "        elif j == 6:\n",
    "            train.extend(ch(dat.iloc[i]['lstDates'], 3, replace = False))\n",
    "            #Weeks with 6 days: extend 3 dates\n",
    "        \n",
    "        else:\n",
    "            train.extend(ch(dat.iloc[i]['lstDates'], 5, replace = False))\n",
    "            #Weeks with 7 days: extend 5 days\n",
    "    return train\n",
    "\n",
    "\n"
   ]
  },
  {
   "cell_type": "code",
   "execution_count": 123,
   "metadata": {},
   "outputs": [],
   "source": [
    "# iterate through the pairs column and get select random dates from\n",
    "\n",
    "# lstDates column\n",
    "train_dates = trainSplit(tr)\n"
   ]
  },
  {
   "cell_type": "code",
   "execution_count": 124,
   "metadata": {},
   "outputs": [
    {
     "data": {
      "text/plain": [
       "70.65726998536745"
      ]
     },
     "execution_count": 124,
     "metadata": {},
     "output_type": "execute_result"
    }
   ],
   "source": [
    "# The following is the dataframe for training\n",
    "\n",
    "training_data = MN[MN['date'].isin(train_dates)]\n",
    "\n",
    "100*(len(training_data)/len(MN))\n"
   ]
  },
  {
   "cell_type": "code",
   "execution_count": 125,
   "metadata": {},
   "outputs": [],
   "source": [
    "# The following is for testing data\n",
    "testing_data = MN[MN['date'].isin(train_dates)==False]\n"
   ]
  },
  {
   "cell_type": "code",
   "execution_count": 126,
   "metadata": {},
   "outputs": [
    {
     "data": {
      "text/plain": [
       "Text(0.5, 1.0, 'Training: Current')"
      ]
     },
     "execution_count": 126,
     "metadata": {},
     "output_type": "execute_result"
    },
    {
     "data": {
      "image/png": "[encoded data removed]",
      "text/plain": [
       "<Figure size 432x288 with 1 Axes>"
      ]
     },
     "metadata": {
      "needs_background": "light"
     },
     "output_type": "display_data"
    }
   ],
   "source": [
    "plt.plot(np.arange(len(training_data)),training_data['Ampere'][0:len(training_data)])\n",
    "plt.ylabel('Ampere')\n",
    "plt.xlabel('Row in data')\n",
    "plt.title('Training: Current')\n"
   ]
  },
  {
   "cell_type": "code",
   "execution_count": 127,
   "metadata": {},
   "outputs": [
    {
     "data": {
      "text/plain": [
       "Text(0.5, 1.0, 'Testing: Current')"
      ]
     },
     "execution_count": 127,
     "metadata": {},
     "output_type": "execute_result"
    },
    {
     "data": {
      "image/png": "[encoded data removed]",
      "text/plain": [
       "<Figure size 432x288 with 1 Axes>"
      ]
     },
     "metadata": {
      "needs_background": "light"
     },
     "output_type": "display_data"
    }
   ],
   "source": [
    "plt.plot(np.arange(len(testing_data)),testing_data['Ampere'][0:len(testing_data)])\n",
    "plt.ylabel('Ampere')\n",
    "plt.xlabel('Row in data')\n",
    "plt.title('Testing: Current')\n",
    "\n"
   ]
  },
  {
   "cell_type": "code",
   "execution_count": 128,
   "metadata": {},
   "outputs": [],
   "source": [
    "# plt.scatter(np.arange(len(testing_data)),testing_data['deltaSOC'][0:len(testing_data)])\n",
    "# plt.ylabel('Units in Decimal')\n",
    "# plt.xlabel('Row in data')\n",
    "# plt.title('Testing: deltaSOC')\n",
    "\n"
   ]
  },
  {
   "cell_type": "code",
   "execution_count": 129,
   "metadata": {},
   "outputs": [
    {
     "data": {
      "text/plain": [
       "Text(0.5, 1.0, 'Testing: deltaSOC')"
      ]
     },
     "execution_count": 129,
     "metadata": {},
     "output_type": "execute_result"
    },
    {
     "data": {
      "image/png": "[encoded data removed]",
      "text/plain": [
       "<Figure size 432x288 with 1 Axes>"
      ]
     },
     "metadata": {
      "needs_background": "light"
     },
     "output_type": "display_data"
    }
   ],
   "source": [
    "plt.scatter(np.arange(len(testing_data)),testing_data['deltaSOC'][0:len(testing_data)])\n",
    "plt.ylabel('Change of SOC')\n",
    "plt.xlabel('Row in data')\n",
    "plt.title('Testing: deltaSOC')\n",
    "\n",
    "\n"
   ]
  },
  {
   "cell_type": "code",
   "execution_count": 130,
   "metadata": {},
   "outputs": [
    {
     "data": {
      "text/plain": [
       "Text(0.5, 1.0, 'Training: deltaSOC')"
      ]
     },
     "execution_count": 130,
     "metadata": {},
     "output_type": "execute_result"
    },
    {
     "data": {
      "image/png": "[encoded data removed]",
      "text/plain": [
       "<Figure size 432x288 with 1 Axes>"
      ]
     },
     "metadata": {
      "needs_background": "light"
     },
     "output_type": "display_data"
    }
   ],
   "source": [
    "plt.scatter(np.arange(len(training_data)),training_data['deltaSOC'][0:len(training_data)])\n",
    "plt.ylabel('Change of SOC')\n",
    "plt.xlabel('Row in data')\n",
    "plt.title('Training: deltaSOC')\n",
    "\n"
   ]
  },
  {
   "cell_type": "code",
   "execution_count": 131,
   "metadata": {},
   "outputs": [
    {
     "data": {
      "text/plain": [
       "Text(0.5, 1.0, 'Training: SOC')"
      ]
     },
     "execution_count": 131,
     "metadata": {},
     "output_type": "execute_result"
    },
    {
     "data": {
      "image/png": "[encoded data removed]",
      "text/plain": [
       "<Figure size 432x288 with 1 Axes>"
      ]
     },
     "metadata": {
      "needs_background": "light"
     },
     "output_type": "display_data"
    }
   ],
   "source": [
    "plt.plot(np.arange(len(training_data)),training_data['State of Charge'][0:len(training_data)])\n",
    "plt.ylabel('SOC')\n",
    "plt.xlabel('Row in data')\n",
    "plt.title('Training: SOC')\n",
    "\n"
   ]
  },
  {
   "cell_type": "code",
   "execution_count": 132,
   "metadata": {},
   "outputs": [
    {
     "data": {
      "text/plain": [
       "Text(0.5, 1.0, 'Testing: SOC')"
      ]
     },
     "execution_count": 132,
     "metadata": {},
     "output_type": "execute_result"
    },
    {
     "data": {
      "image/png": "[encoded data removed]",
      "text/plain": [
       "<Figure size 432x288 with 1 Axes>"
      ]
     },
     "metadata": {
      "needs_background": "light"
     },
     "output_type": "display_data"
    }
   ],
   "source": [
    "plt.plot(np.arange(len(testing_data)),testing_data['State of Charge'][0:len(testing_data)])\n",
    "plt.ylabel('SOC')\n",
    "plt.xlabel('Row in data')\n",
    "plt.title('Testing: SOC')\n"
   ]
  },
  {
   "cell_type": "markdown",
   "metadata": {},
   "source": [
    "## Install Neural Network\n",
    "#### $ pip install neuralnetwork\n",
    "\n",
    "##### How to use NN?\n",
    "\n",
    "https://pypi.org/project/neuralnetwork/"
   ]
  },
  {
   "cell_type": "code",
   "execution_count": 133,
   "metadata": {},
   "outputs": [],
   "source": [
    "# input_nodes = 2\n",
    "# hidden_nodes = 2\n",
    "# output_nodes = 2\n",
    "\n",
    "# output_order = 3\n",
    "# incoming_weight_from_output = .6\n",
    "# input_order = 2\n",
    "# incoming_weight_from_input = .4\n",
    "\n",
    "# net = neuralnetwork\n",
    "\n"
   ]
  },
  {
   "cell_type": "markdown",
   "metadata": {},
   "source": [
    "#### Install Pyneurgen\n",
    "$ pip install pyneurgen\n"
   ]
  },
  {
   "cell_type": "code",
   "execution_count": 66,
   "metadata": {},
   "outputs": [
    {
     "data": {
      "text/plain": [
       "Text(0.5, 1.0, 'Testing: Voltage')"
      ]
     },
     "execution_count": 66,
     "metadata": {},
     "output_type": "execute_result"
    },
    {
     "data": {
      "image/png": "[encoded data removed]",
      "text/plain": [
       "<Figure size 432x288 with 1 Axes>"
      ]
     },
     "metadata": {
      "needs_background": "light"
     },
     "output_type": "display_data"
    }
   ],
   "source": [
    "plt.plot(np.arange(len(testing_data)),testing_data['Voltage'][0:len(testing_data)])\n",
    "plt.ylabel('Voltage')\n",
    "plt.xlabel('Row in data')\n",
    "plt.title('Testing: Voltage')\n"
   ]
  },
  {
   "cell_type": "code",
   "execution_count": 67,
   "metadata": {},
   "outputs": [
    {
     "data": {
      "text/plain": [
       "Text(0.5, 1.0, 'Training: Voltage')"
      ]
     },
     "execution_count": 67,
     "metadata": {},
     "output_type": "execute_result"
    },
    {
     "data": {
      "image/png": "[encoded data removed]",
      "text/plain": [
       "<Figure size 432x288 with 1 Axes>"
      ]
     },
     "metadata": {
      "needs_background": "light"
     },
     "output_type": "display_data"
    }
   ],
   "source": [
    "plt.plot(np.arange(len(training_data)),training_data['Voltage'][0:len(training_data)])\n",
    "plt.ylabel('Voltage')\n",
    "plt.xlabel('Row in data')\n",
    "plt.title('Training: Voltage')\n"
   ]
  },
  {
   "cell_type": "markdown",
   "metadata": {},
   "source": [
    "### Normalizing the new data\n",
    "\n"
   ]
  },
  {
   "cell_type": "code",
   "execution_count": 68,
   "metadata": {},
   "outputs": [],
   "source": [
    "training_data = training_data.reset_index(drop=True)"
   ]
  },
  {
   "cell_type": "code",
   "execution_count": 69,
   "metadata": {},
   "outputs": [
    {
     "name": "stderr",
     "output_type": "stream",
     "text": [
      "/Users/germa/anaconda3/lib/python3.7/site-packages/ipykernel_launcher.py:1: SettingWithCopyWarning: \n",
      "A value is trying to be set on a copy of a slice from a DataFrame\n",
      "\n",
      "See the caveats in the documentation: http://pandas.pydata.org/pandas-docs/stable/indexing.html#indexing-view-versus-copy\n",
      "  \"\"\"Entry point for launching an IPython kernel.\n"
     ]
    }
   ],
   "source": [
    "training_data.iloc[0]['deltaSOC'] = training_data.iloc[1]['deltaSOC']"
   ]
  },
  {
   "cell_type": "code",
   "execution_count": 70,
   "metadata": {},
   "outputs": [
    {
     "name": "stderr",
     "output_type": "stream",
     "text": [
      "/Users/germa/anaconda3/lib/python3.7/site-packages/ipykernel_launcher.py:1: SettingWithCopyWarning: \n",
      "A value is trying to be set on a copy of a slice from a DataFrame\n",
      "\n",
      "See the caveats in the documentation: http://pandas.pydata.org/pandas-docs/stable/indexing.html#indexing-view-versus-copy\n",
      "  \"\"\"Entry point for launching an IPython kernel.\n"
     ]
    }
   ],
   "source": [
    "training_data.iloc[0]['deltaSOC'] = training_data.iloc[1]['deltaSOC']\n"
   ]
  },
  {
   "cell_type": "code",
   "execution_count": 71,
   "metadata": {},
   "outputs": [
    {
     "data": {
      "text/html": [
       "<div>\n",
       "<style scoped>\n",
       "    .dataframe tbody tr th:only-of-type {\n",
       "        vertical-align: middle;\n",
       "    }\n",
       "\n",
       "    .dataframe tbody tr th {\n",
       "        vertical-align: top;\n",
       "    }\n",
       "\n",
       "    .dataframe thead th {\n",
       "        text-align: right;\n",
       "    }\n",
       "</style>\n",
       "<table border=\"1\" class=\"dataframe\">\n",
       "  <thead>\n",
       "    <tr style=\"text-align: right;\">\n",
       "      <th></th>\n",
       "      <th>Battery(kW)</th>\n",
       "      <th>State of Charge</th>\n",
       "      <th>Total Net Load (Sum of All Loads excluding Battery)</th>\n",
       "      <th>ts</th>\n",
       "      <th>Building(kW)</th>\n",
       "      <th>Adjusted Load (kW)</th>\n",
       "      <th>Ampere</th>\n",
       "      <th>Voltage</th>\n",
       "      <th>deltaSOC</th>\n",
       "      <th>Year</th>\n",
       "      <th>Week</th>\n",
       "      <th>Hour</th>\n",
       "      <th>Day</th>\n",
       "      <th>values</th>\n",
       "      <th>date</th>\n",
       "      <th>Triple</th>\n",
       "      <th>Pairs</th>\n",
       "    </tr>\n",
       "  </thead>\n",
       "  <tbody>\n",
       "    <tr>\n",
       "      <th>0</th>\n",
       "      <td>-22.800101</td>\n",
       "      <td>0.572250</td>\n",
       "      <td>1975.492339</td>\n",
       "      <td>2019-06-01 04:15:00</td>\n",
       "      <td>1975.492339</td>\n",
       "      <td>1952.692237</td>\n",
       "      <td>2111.85</td>\n",
       "      <td>583.6</td>\n",
       "      <td>0.013387</td>\n",
       "      <td>2019</td>\n",
       "      <td>22</td>\n",
       "      <td>4</td>\n",
       "      <td>5</td>\n",
       "      <td>2</td>\n",
       "      <td>2019-06-01</td>\n",
       "      <td>(22, 2, 2019-06-01)</td>\n",
       "      <td>(22, 2)</td>\n",
       "    </tr>\n",
       "    <tr>\n",
       "      <th>1</th>\n",
       "      <td>139.599885</td>\n",
       "      <td>0.585636</td>\n",
       "      <td>1976.813313</td>\n",
       "      <td>2019-06-01 04:30:00</td>\n",
       "      <td>1976.813313</td>\n",
       "      <td>2116.413198</td>\n",
       "      <td>2167.47</td>\n",
       "      <td>582.3</td>\n",
       "      <td>0.013387</td>\n",
       "      <td>2019</td>\n",
       "      <td>22</td>\n",
       "      <td>4</td>\n",
       "      <td>5</td>\n",
       "      <td>2</td>\n",
       "      <td>2019-06-01</td>\n",
       "      <td>(22, 2, 2019-06-01)</td>\n",
       "      <td>(22, 2)</td>\n",
       "    </tr>\n",
       "    <tr>\n",
       "      <th>2</th>\n",
       "      <td>-7.200152</td>\n",
       "      <td>0.583871</td>\n",
       "      <td>1995.591711</td>\n",
       "      <td>2019-06-01 04:45:00</td>\n",
       "      <td>1995.591711</td>\n",
       "      <td>1988.391559</td>\n",
       "      <td>2029.17</td>\n",
       "      <td>583.4</td>\n",
       "      <td>-0.001765</td>\n",
       "      <td>2019</td>\n",
       "      <td>22</td>\n",
       "      <td>4</td>\n",
       "      <td>5</td>\n",
       "      <td>2</td>\n",
       "      <td>2019-06-01</td>\n",
       "      <td>(22, 2, 2019-06-01)</td>\n",
       "      <td>(22, 2)</td>\n",
       "    </tr>\n",
       "    <tr>\n",
       "      <th>3</th>\n",
       "      <td>-513.599510</td>\n",
       "      <td>0.527619</td>\n",
       "      <td>1945.208337</td>\n",
       "      <td>2019-06-01 05:00:00</td>\n",
       "      <td>1945.208337</td>\n",
       "      <td>1431.608827</td>\n",
       "      <td>1403.33</td>\n",
       "      <td>586.8</td>\n",
       "      <td>-0.056251</td>\n",
       "      <td>2019</td>\n",
       "      <td>22</td>\n",
       "      <td>5</td>\n",
       "      <td>5</td>\n",
       "      <td>2</td>\n",
       "      <td>2019-06-01</td>\n",
       "      <td>(22, 2, 2019-06-01)</td>\n",
       "      <td>(22, 2)</td>\n",
       "    </tr>\n",
       "    <tr>\n",
       "      <th>4</th>\n",
       "      <td>128.401671</td>\n",
       "      <td>0.542111</td>\n",
       "      <td>1978.229553</td>\n",
       "      <td>2019-06-01 05:15:00</td>\n",
       "      <td>1978.229553</td>\n",
       "      <td>2106.631224</td>\n",
       "      <td>2208.09</td>\n",
       "      <td>581.9</td>\n",
       "      <td>0.014492</td>\n",
       "      <td>2019</td>\n",
       "      <td>22</td>\n",
       "      <td>5</td>\n",
       "      <td>5</td>\n",
       "      <td>2</td>\n",
       "      <td>2019-06-01</td>\n",
       "      <td>(22, 2, 2019-06-01)</td>\n",
       "      <td>(22, 2)</td>\n",
       "    </tr>\n",
       "  </tbody>\n",
       "</table>\n",
       "</div>"
      ],
      "text/plain": [
       "   Battery(kW)  State of Charge  \\\n",
       "0   -22.800101         0.572250   \n",
       "1   139.599885         0.585636   \n",
       "2    -7.200152         0.583871   \n",
       "3  -513.599510         0.527619   \n",
       "4   128.401671         0.542111   \n",
       "\n",
       "   Total Net Load (Sum of All Loads excluding Battery)                  ts  \\\n",
       "0                                        1975.492339   2019-06-01 04:15:00   \n",
       "1                                        1976.813313   2019-06-01 04:30:00   \n",
       "2                                        1995.591711   2019-06-01 04:45:00   \n",
       "3                                        1945.208337   2019-06-01 05:00:00   \n",
       "4                                        1978.229553   2019-06-01 05:15:00   \n",
       "\n",
       "   Building(kW)  Adjusted Load (kW)   Ampere  Voltage  deltaSOC  Year  Week  \\\n",
       "0   1975.492339         1952.692237  2111.85    583.6  0.013387  2019    22   \n",
       "1   1976.813313         2116.413198  2167.47    582.3  0.013387  2019    22   \n",
       "2   1995.591711         1988.391559  2029.17    583.4 -0.001765  2019    22   \n",
       "3   1945.208337         1431.608827  1403.33    586.8 -0.056251  2019    22   \n",
       "4   1978.229553         2106.631224  2208.09    581.9  0.014492  2019    22   \n",
       "\n",
       "   Hour  Day  values        date               Triple    Pairs  \n",
       "0     4    5       2  2019-06-01  (22, 2, 2019-06-01)  (22, 2)  \n",
       "1     4    5       2  2019-06-01  (22, 2, 2019-06-01)  (22, 2)  \n",
       "2     4    5       2  2019-06-01  (22, 2, 2019-06-01)  (22, 2)  \n",
       "3     5    5       2  2019-06-01  (22, 2, 2019-06-01)  (22, 2)  \n",
       "4     5    5       2  2019-06-01  (22, 2, 2019-06-01)  (22, 2)  "
      ]
     },
     "execution_count": 71,
     "metadata": {},
     "output_type": "execute_result"
    }
   ],
   "source": [
    "# Setting timestamp as index\n",
    "\n",
    "#training_data = training_data.set_index('ts')\n",
    "training_data.head()\n",
    "\n"
   ]
  },
  {
   "cell_type": "code",
   "execution_count": 72,
   "metadata": {},
   "outputs": [],
   "source": [
    "train_matlab = training_data.set_index('ts').drop(columns = ['values','date','Triple','Pairs','Year','Total Net Load (Sum of All Loads excluding Battery)'], axis = 1)\n",
    "\n",
    "\n",
    "\n"
   ]
  },
  {
   "cell_type": "code",
   "execution_count": 74,
   "metadata": {},
   "outputs": [],
   "source": [
    "stats2 = train_matlab.describe()\n",
    "stats2 = stats2.transpose()"
   ]
  },
  {
   "cell_type": "code",
   "execution_count": 75,
   "metadata": {},
   "outputs": [],
   "source": [
    "def norm4(data):\n",
    "    return (2*(data - stats2['min'])/(stats2['max']-stats2['min']) - 1)\n",
    "\n"
   ]
  },
  {
   "cell_type": "code",
   "execution_count": 76,
   "metadata": {},
   "outputs": [],
   "source": [
    "testing_matlab = testing_data.set_index('ts').drop(columns = ['values','Triple','Pairs','Year','Total Net Load (Sum of All Loads excluding Battery)','date'], axis = 1)\n",
    "\n",
    "dataset = MN.drop(columns = ['values','ts','Triple','Pairs','Year','Total Net Load (Sum of All Loads excluding Battery)','date'], axis = 1)\n",
    "\n",
    "# Use the whole dataset to normalize before splitting \n",
    "\n"
   ]
  },
  {
   "cell_type": "code",
   "execution_count": 77,
   "metadata": {},
   "outputs": [],
   "source": [
    "# The following is for the testing data \n",
    "stats3 = dataset.describe()\n",
    "stats3 = stats3.transpose()\n",
    "\n",
    "\n",
    "def norm5(data):\n",
    "    return (2*(data - stats3['min'])/(stats3['max']-stats3['min']) - 1)\n",
    "\n",
    "train_normalized = norm5(train_matlab)\n",
    "\n",
    "\n"
   ]
  },
  {
   "cell_type": "markdown",
   "metadata": {},
   "source": [
    "## Filter out the outliers \n"
   ]
  },
  {
   "cell_type": "code",
   "execution_count": 78,
   "metadata": {},
   "outputs": [],
   "source": [
    "\n",
    "# Convert data to matlab\n",
    "\n",
    "#train_normalized.to_csv('training_normalized')\n",
    "\n",
    "test_normalized = norm5(testing_matlab)\n",
    "\n",
    "tr_outli = (train_normalized['deltaSOC']>0.5)|(train_normalized['deltaSOC']<-0.5)\n",
    "\n",
    "train_normalized2 = train_normalized[~tr_outli]\n",
    "\n"
   ]
  },
  {
   "cell_type": "code",
   "execution_count": 79,
   "metadata": {},
   "outputs": [],
   "source": [
    "\n",
    "#Check PyTorch, Keras\n",
    "\n",
    "# This is for Testing \n",
    "\n",
    "#test_normalized.to_csv('test_normalized.csv')\n",
    "\n",
    "#test_normalized.to_csv('test_normalized')\n",
    "\n",
    "te_outli = (test_normalized['deltaSOC']>0.5)|(test_normalized['deltaSOC']<-0.5)\n",
    "\n",
    "test_normalized2 = test_normalized[~te_outli]\n",
    "\n"
   ]
  },
  {
   "cell_type": "code",
   "execution_count": 80,
   "metadata": {},
   "outputs": [
    {
     "data": {
      "text/plain": [
       "Text(0.5, 1.0, 'Testing: deltaSOC')"
      ]
     },
     "execution_count": 80,
     "metadata": {},
     "output_type": "execute_result"
    },
    {
     "data": {
      "image/png": "[encoded data removed]",
      "text/plain": [
       "<Figure size 432x288 with 1 Axes>"
      ]
     },
     "metadata": {
      "needs_background": "light"
     },
     "output_type": "display_data"
    }
   ],
   "source": [
    "plt.scatter(np.arange(len(test_normalized)),test_normalized['deltaSOC'][0:len(testing_data)])\n",
    "plt.ylabel('Change of SOC')\n",
    "plt.xlabel('Row in data')\n",
    "plt.title('Testing: deltaSOC')\n",
    "\n"
   ]
  },
  {
   "cell_type": "code",
   "execution_count": 81,
   "metadata": {},
   "outputs": [
    {
     "data": {
      "text/plain": [
       "Text(0.5, 1.0, 'Training: Battery power')"
      ]
     },
     "execution_count": 81,
     "metadata": {},
     "output_type": "execute_result"
    },
    {
     "data": {
      "image/png": "[encoded data removed]",
      "text/plain": [
       "<Figure size 432x288 with 1 Axes>"
      ]
     },
     "metadata": {
      "needs_background": "light"
     },
     "output_type": "display_data"
    }
   ],
   "source": [
    "plt.plot(np.arange(len(train_normalized)),train_normalized['Battery(kW)'][0:len(training_data)])\n",
    "plt.ylabel('kW Normalized')\n",
    "plt.xlabel('Row in data')\n",
    "plt.title('Training: Battery power')\n"
   ]
  },
  {
   "cell_type": "code",
   "execution_count": 135,
   "metadata": {},
   "outputs": [
    {
     "data": {
      "text/plain": [
       "Text(0.5, 1.0, 'Test: Battery power')"
      ]
     },
     "execution_count": 135,
     "metadata": {},
     "output_type": "execute_result"
    },
    {
     "data": {
      "image/png": "[encoded data removed]",
      "text/plain": [
       "<Figure size 432x288 with 1 Axes>"
      ]
     },
     "metadata": {
      "needs_background": "light"
     },
     "output_type": "display_data"
    }
   ],
   "source": [
    "plt.plot(np.arange(len(test_normalized)),test_normalized['Battery(kW)'][0:len(test_normalized)])\n",
    "plt.ylabel('kW Normalized')\n",
    "plt.xlabel('Row in data')\n",
    "plt.title('Test: Battery power')\n",
    "\n",
    "\n"
   ]
  },
  {
   "cell_type": "code",
   "execution_count": 139,
   "metadata": {},
   "outputs": [],
   "source": [
    "# train_normalized2.to_csv('train_normalized2')\n",
    "# test_normalized2.to_csv('test_normalized2')\n"
   ]
  }
 ],
 "metadata": {
  "kernelspec": {
   "display_name": "Python 3",
   "language": "python",
   "name": "python3"
  },
  "language_info": {
   "codemirror_mode": {
    "name": "ipython",
    "version": 3
   },
   "file_extension": ".py",
   "mimetype": "text/x-python",
   "name": "python",
   "nbconvert_exporter": "python",
   "pygments_lexer": "ipython3",
   "version": "3.7.1"
  }
 },
 "nbformat": 4,
 "nbformat_minor": 2
}
