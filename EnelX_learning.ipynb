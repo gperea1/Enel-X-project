{
 "cells": [
  {
   "cell_type": "markdown",
   "metadata": {},
   "source": [
    "## This code is mainly for:\n",
    "## 1. Cleaning the data \n",
    "## 2. Properly separating(train/test) the data\n",
    "## 3. Data normalization \n",
    "### by German Perea"
   ]
  },
  {
   "cell_type": "markdown",
   "metadata": {},
   "source": [
    "## 1. Cleaning the data "
   ]
  },
  {
   "cell_type": "code",
   "execution_count": 1,
   "metadata": {},
   "outputs": [],
   "source": [
    "import numpy as np\n",
    "import matplotlib.pyplot as plt\n",
    "import pandas as pd\n",
    "import csv\n",
    "import datetime\n"
   ]
  },
  {
   "cell_type": "markdown",
   "metadata": {},
   "source": [
    "### The raw data to clean are saved as \n",
    "### logs.csv\n",
    "### amp_data.txt\n",
    "### voltage_data.txt\n"
   ]
  },
  {
   "cell_type": "code",
   "execution_count": 2,
   "metadata": {},
   "outputs": [],
   "source": [
    "# Read the data \n",
    "\n",
    "Logs = pd.read_csv('logs.csv')\n",
    "amps = pd.read_csv('amp_data.txt', header=None)\n",
    "volts = pd.read_csv('voltage_data.txt', header=None)\n",
    "\n",
    "\n",
    "# Make a copy, to prevent changes in the original dataset \n",
    "amp = amps.copy()\n",
    "volt = volts.copy()\n"
   ]
  },
  {
   "cell_type": "code",
   "execution_count": 3,
   "metadata": {},
   "outputs": [],
   "source": [
    "# Column 0 represents Unix time for both amps and volts\n",
    "\n",
    "unix = amp[0]\n",
    "\n",
    "# This converts the Unix time into a Datetime format \n",
    "# The following Converts to \n",
    "\n",
    "x = pd.to_datetime(pd.Series(np.asarray(unix, dtype='datetime64[ms]')))\n",
    "\n",
    "\n",
    "# Convert the time into United States Central time\n",
    "\n",
    "central_time = x.dt.tz_localize(\"UTC\").dt.tz_convert('US/Central')\n",
    "\n",
    "amp['Date'] = central_time\n",
    "\n",
    "# Sanity: check if the Values from Unix values from AMPS and Volts \n",
    "# are the same \n",
    "\n",
    "# Combine Amps and Volts together \n",
    "\n",
    "amp = amp.rename(columns = {1:'Ampere'})\n",
    "\n",
    "# Some values in the amps are saved as 'None'\n",
    "he = [str(i).replace(\" \",\"\") for i in volt[1]]\n"
   ]
  },
  {
   "cell_type": "code",
   "execution_count": 4,
   "metadata": {},
   "outputs": [],
   "source": [
    "# Remove the values that are None  \n",
    "\n",
    "volt1 = volt[[j!='None'for j in he]]\n",
    "volt = np.array(volt1[1], dtype = float)\n"
   ]
  },
  {
   "cell_type": "code",
   "execution_count": 5,
   "metadata": {},
   "outputs": [
    {
     "name": "stderr",
     "output_type": "stream",
     "text": [
      "/Users/germa/anaconda3/lib/python3.7/site-packages/ipykernel_launcher.py:11: SettingWithCopyWarning: \n",
      "A value is trying to be set on a copy of a slice from a DataFrame.\n",
      "Try using .loc[row_indexer,col_indexer] = value instead\n",
      "\n",
      "See the caveats in the documentation: http://pandas.pydata.org/pandas-docs/stable/indexing.html#indexing-view-versus-copy\n",
      "  # This is added back by InteractiveShellApp.init_path()\n",
      "/Users/germa/anaconda3/lib/python3.7/site-packages/ipykernel_launcher.py:12: SettingWithCopyWarning: \n",
      "A value is trying to be set on a copy of a slice from a DataFrame.\n",
      "Try using .loc[row_indexer,col_indexer] = value instead\n",
      "\n",
      "See the caveats in the documentation: http://pandas.pydata.org/pandas-docs/stable/indexing.html#indexing-view-versus-copy\n",
      "  if sys.path[0] == '':\n"
     ]
    },
    {
     "data": {
      "text/html": [
       "<div>\n",
       "<style scoped>\n",
       "    .dataframe tbody tr th:only-of-type {\n",
       "        vertical-align: middle;\n",
       "    }\n",
       "\n",
       "    .dataframe tbody tr th {\n",
       "        vertical-align: top;\n",
       "    }\n",
       "\n",
       "    .dataframe thead th {\n",
       "        text-align: right;\n",
       "    }\n",
       "</style>\n",
       "<table border=\"1\" class=\"dataframe\">\n",
       "  <thead>\n",
       "    <tr style=\"text-align: right;\">\n",
       "      <th></th>\n",
       "      <th>0</th>\n",
       "      <th>Ampere</th>\n",
       "      <th>Date</th>\n",
       "      <th>Voltage</th>\n",
       "    </tr>\n",
       "  </thead>\n",
       "  <tbody>\n",
       "    <tr>\n",
       "      <th>0</th>\n",
       "      <td>1554076800000</td>\n",
       "      <td>686.70</td>\n",
       "      <td>2019-03-31 19:00:00-05:00</td>\n",
       "      <td>593.0</td>\n",
       "    </tr>\n",
       "    <tr>\n",
       "      <th>1</th>\n",
       "      <td>1554077100000</td>\n",
       "      <td>684.08</td>\n",
       "      <td>2019-03-31 19:05:00-05:00</td>\n",
       "      <td>592.0</td>\n",
       "    </tr>\n",
       "    <tr>\n",
       "      <th>2</th>\n",
       "      <td>1554077400000</td>\n",
       "      <td>654.49</td>\n",
       "      <td>2019-03-31 19:10:00-05:00</td>\n",
       "      <td>593.6</td>\n",
       "    </tr>\n",
       "    <tr>\n",
       "      <th>3</th>\n",
       "      <td>1554077700000</td>\n",
       "      <td>670.80</td>\n",
       "      <td>2019-03-31 19:15:00-05:00</td>\n",
       "      <td>592.0</td>\n",
       "    </tr>\n",
       "    <tr>\n",
       "      <th>4</th>\n",
       "      <td>1554078000000</td>\n",
       "      <td>651.67</td>\n",
       "      <td>2019-03-31 19:20:00-05:00</td>\n",
       "      <td>592.3</td>\n",
       "    </tr>\n",
       "  </tbody>\n",
       "</table>\n",
       "</div>"
      ],
      "text/plain": [
       "               0  Ampere                      Date  Voltage\n",
       "0  1554076800000  686.70 2019-03-31 19:00:00-05:00    593.0\n",
       "1  1554077100000  684.08 2019-03-31 19:05:00-05:00    592.0\n",
       "2  1554077400000  654.49 2019-03-31 19:10:00-05:00    593.6\n",
       "3  1554077700000  670.80 2019-03-31 19:15:00-05:00    592.0\n",
       "4  1554078000000  651.67 2019-03-31 19:20:00-05:00    592.3"
      ]
     },
     "execution_count": 5,
     "metadata": {},
     "output_type": "execute_result"
    }
   ],
   "source": [
    "# Get rid of empty space\n",
    "\n",
    "cl = [str(i).replace(\" \",\"\") for i in amp['Ampere']]\n",
    "\n",
    "# Add the Voltage and Ampere columns\n",
    "\n",
    "amp1 = amp[[k!='None' for k in cl]]\n",
    "\n",
    "# Change the string values to float\n",
    "\n",
    "amp1['Ampere'] = np.array(amp1['Ampere'], dtype = float)\n",
    "amp1['Voltage'] = volt\n",
    "\n",
    "amp1.head()\n",
    "\n"
   ]
  },
  {
   "cell_type": "code",
   "execution_count": 6,
   "metadata": {},
   "outputs": [
    {
     "data": {
      "text/html": [
       "<div>\n",
       "<style scoped>\n",
       "    .dataframe tbody tr th:only-of-type {\n",
       "        vertical-align: middle;\n",
       "    }\n",
       "\n",
       "    .dataframe tbody tr th {\n",
       "        vertical-align: top;\n",
       "    }\n",
       "\n",
       "    .dataframe thead th {\n",
       "        text-align: right;\n",
       "    }\n",
       "</style>\n",
       "<table border=\"1\" class=\"dataframe\">\n",
       "  <thead>\n",
       "    <tr style=\"text-align: right;\">\n",
       "      <th></th>\n",
       "      <th>Ampere</th>\n",
       "      <th>Date</th>\n",
       "      <th>Voltage</th>\n",
       "    </tr>\n",
       "  </thead>\n",
       "  <tbody>\n",
       "    <tr>\n",
       "      <th>0</th>\n",
       "      <td>686.70</td>\n",
       "      <td>2019-03-31 19:00:00</td>\n",
       "      <td>593.0</td>\n",
       "    </tr>\n",
       "    <tr>\n",
       "      <th>1</th>\n",
       "      <td>684.08</td>\n",
       "      <td>2019-03-31 19:05:00</td>\n",
       "      <td>592.0</td>\n",
       "    </tr>\n",
       "    <tr>\n",
       "      <th>2</th>\n",
       "      <td>654.49</td>\n",
       "      <td>2019-03-31 19:10:00</td>\n",
       "      <td>593.6</td>\n",
       "    </tr>\n",
       "    <tr>\n",
       "      <th>3</th>\n",
       "      <td>670.80</td>\n",
       "      <td>2019-03-31 19:15:00</td>\n",
       "      <td>592.0</td>\n",
       "    </tr>\n",
       "    <tr>\n",
       "      <th>4</th>\n",
       "      <td>651.67</td>\n",
       "      <td>2019-03-31 19:20:00</td>\n",
       "      <td>592.3</td>\n",
       "    </tr>\n",
       "  </tbody>\n",
       "</table>\n",
       "</div>"
      ],
      "text/plain": [
       "   Ampere                Date  Voltage\n",
       "0  686.70 2019-03-31 19:00:00    593.0\n",
       "1  684.08 2019-03-31 19:05:00    592.0\n",
       "2  654.49 2019-03-31 19:10:00    593.6\n",
       "3  670.80 2019-03-31 19:15:00    592.0\n",
       "4  651.67 2019-03-31 19:20:00    592.3"
      ]
     },
     "execution_count": 6,
     "metadata": {},
     "output_type": "execute_result"
    }
   ],
   "source": [
    "amp_and_vol = amp1\n",
    "amp_and_vol = amp_and_vol.drop(columns = [0])\n",
    "\n",
    "# Make a copy of the original data \n",
    "\n",
    "modified_log = Logs.copy()\n",
    "modified_log = modified_log.drop(columns = 'Unnamed: 0')\n",
    "\n",
    "\n",
    "# ts: is in ts(timestime: in central time)\n",
    "# Battery: positive values stand for charging \n",
    "\n",
    "modified_log['ts'] = pd.to_datetime(pd.Series(np.asarray(modified_log['ts'], dtype='datetime64[s]')))\n",
    "\n",
    "# This is to match the correct \n",
    "# data format from Logs\n",
    "# Change the date to an appropiate Date(without the small noise)\n",
    "amp_and_vol['Date'] = pd.to_datetime(amp_and_vol['Date'].dt.strftime(('%B %d, %Y, %r')))\n",
    "\n",
    "amp_and_vol.head()"
   ]
  },
  {
   "cell_type": "code",
   "execution_count": 7,
   "metadata": {},
   "outputs": [],
   "source": [
    "# Let's join the data based on the DataFrame where we know the State of Charge\n",
    "\n",
    "# There are values where we don't have Amps and Voltage for the original data\n",
    "# The original values with SOC is 40427, but not all SOC have AMPS and Volts\n",
    "# We will drop these values: After dropping missing values, we have 34627 rows left \n",
    "\n",
    "modified = modified_log.join(amp_and_vol.set_index('Date'), on='ts').dropna().reset_index(drop=True)\n",
    "\n",
    "\n"
   ]
  },
  {
   "cell_type": "code",
   "execution_count": 8,
   "metadata": {},
   "outputs": [],
   "source": [
    "## Rename \n",
    "\n",
    "X = modified \n",
    "\n",
    "# Rename columns \n",
    "\n",
    "X = X.rename(columns = {'Battery': 'Battery(kW)', 'building': 'Building(kW)', 'Adjusted Load': 'Adjusted Load (kW)'})\n",
    "\n",
    "\n",
    "# Drop the rows in which the building has Negative Power\n",
    "\n",
    "X = X[X['Building(kW)']>0]\n"
   ]
  },
  {
   "cell_type": "markdown",
   "metadata": {},
   "source": [
    "### Nonlinear autoregressive exogenous (NARX) model \n",
    "\n",
    "Exogenous inputs (the model relates the current value of a time)\n",
    "\n",
    "1. Past values of the same series \n",
    "2. Current and past values of the driving (exogenous) series — that is, of the externally determined series that influences the series of interest.\n",
    "\n",
    "\n",
    "documentation on how to use NARX in Python:\n",
    "\n",
    "https://firets.readthedocs.io/en/latest/models.html\n",
    "\n",
    "parameters:\n",
    "\n",
    "https://pypi.org/project/fireTS/\n",
    "\n",
    "\n",
    "### In this case, we are using NARX in Matlab\n"
   ]
  },
  {
   "cell_type": "markdown",
   "metadata": {},
   "source": [
    "#### Find the delta SOC \n",
    "\n",
    "deltaSOC 2 = SOC 2 - SOC 1\n",
    "\n",
    "##### This means that the first row will be left with a None value.\n",
    "##### We will replace the None value with the equivalent value of the \n",
    "##### second row. \n",
    "\n"
   ]
  },
  {
   "cell_type": "code",
   "execution_count": 9,
   "metadata": {},
   "outputs": [],
   "source": [
    "## Creating a column for the state of charge \n",
    "\n",
    "X['deltaSOC'] = X[['State of Charge']].diff(1, axis=0)['State of Charge']\n"
   ]
  },
  {
   "cell_type": "code",
   "execution_count": 10,
   "metadata": {},
   "outputs": [
    {
     "data": {
      "text/plain": [
       "Text(0.5, 1.0, 'deltaSOC for each row')"
      ]
     },
     "execution_count": 10,
     "metadata": {},
     "output_type": "execute_result"
    },
    {
     "data": {
      "image/png": "[encoded data removed]",
      "text/plain": [
       "<Figure size 432x288 with 1 Axes>"
      ]
     },
     "metadata": {
      "needs_background": "light"
     },
     "output_type": "display_data"
    }
   ],
   "source": [
    "plt.scatter(np.arange(len(X)),X['deltaSOC'][0:len(X)])\n",
    "plt.xlabel('Row in data')\n",
    "plt.ylabel('deltaSOC')\n",
    "plt.title('deltaSOC for each row')\n",
    "\n",
    "\n"
   ]
  },
  {
   "cell_type": "code",
   "execution_count": 11,
   "metadata": {},
   "outputs": [
    {
     "data": {
      "text/plain": [
       "Text(0.5, 1.0, 'Current')"
      ]
     },
     "execution_count": 11,
     "metadata": {},
     "output_type": "execute_result"
    },
    {
     "data": {
      "image/png": "[encoded data removed]",
      "text/plain": [
       "<Figure size 432x288 with 1 Axes>"
      ]
     },
     "metadata": {
      "needs_background": "light"
     },
     "output_type": "display_data"
    }
   ],
   "source": [
    "plt.plot(np.arange(len(X)),X['Ampere'][0:len(X)])\n",
    "plt.ylabel('Amps')\n",
    "plt.xlabel('Row in data')\n",
    "plt.title('Current')\n",
    "\n",
    "\n"
   ]
  },
  {
   "cell_type": "code",
   "execution_count": 12,
   "metadata": {},
   "outputs": [],
   "source": [
    "# Dropping the first row in data\n",
    "\n",
    "X_new = X.copy()\n",
    "X_new = X_new.iloc[1:]\n"
   ]
  },
  {
   "cell_type": "markdown",
   "metadata": {},
   "source": [
    "## 2. Properly separating(train/test) the data\n"
   ]
  },
  {
   "cell_type": "code",
   "execution_count": 13,
   "metadata": {},
   "outputs": [],
   "source": [
    "X['Year'] = X['ts'].dt.year\n",
    "X['Week'] = X['ts'].dt.week\n",
    "X['Hour'] = X['ts'].dt.hour\n",
    "X['Day'] = X['ts'].dt.weekday\n"
   ]
  },
  {
   "cell_type": "code",
   "execution_count": 14,
   "metadata": {},
   "outputs": [],
   "source": [
    "group = X.groupby(['Year','Week','Day']).count()\n"
   ]
  },
  {
   "cell_type": "code",
   "execution_count": 15,
   "metadata": {},
   "outputs": [],
   "source": [
    "# We have 358 days worth of data "
   ]
  },
  {
   "cell_type": "markdown",
   "metadata": {},
   "source": [
    "#### This will capture true reprentation\n"
   ]
  },
  {
   "cell_type": "code",
   "execution_count": 16,
   "metadata": {},
   "outputs": [
    {
     "name": "stderr",
     "output_type": "stream",
     "text": [
      "/Users/germa/anaconda3/lib/python3.7/site-packages/pandas/core/indexing.py:189: SettingWithCopyWarning: \n",
      "A value is trying to be set on a copy of a slice from a DataFrame\n",
      "\n",
      "See the caveats in the documentation: http://pandas.pydata.org/pandas-docs/stable/indexing.html#indexing-view-versus-copy\n",
      "  self._setitem_with_indexer(indexer, value)\n"
     ]
    }
   ],
   "source": [
    "# Need to know the neurons, loss function, activation, layers\n",
    "\n",
    "## Replacing the first row with None value to the equivalent \n",
    "## of the second row!\n",
    "\n",
    "X['deltaSOC'].iloc[0] = X['deltaSOC'].iloc[1]\n"
   ]
  },
  {
   "cell_type": "code",
   "execution_count": 17,
   "metadata": {},
   "outputs": [],
   "source": [
    "## Group by the Year and Week for training and \n",
    "\n",
    "gr = X[['Year','Week','Day']].groupby(['Year','Week']).size()\n"
   ]
  },
  {
   "cell_type": "code",
   "execution_count": 18,
   "metadata": {},
   "outputs": [],
   "source": [
    "# Properly fixing the data\n",
    "\n",
    "Z = X\n",
    "CV = Z.groupby(['Year','Week','Day']).size().index.get_level_values(1).value_counts()\n",
    "tu = pd.DataFrame(CV).rename(columns = {'Week':'values'})\n",
    "X = X.join(tu, on = 'Week')\n",
    "\n"
   ]
  },
  {
   "cell_type": "code",
   "execution_count": 19,
   "metadata": {},
   "outputs": [],
   "source": [
    "## By looking at the data, we have a week 22 for both 2019 and 2020 \n",
    "## We can capture this and plug in the correct number of days in a week for each \n",
    "## of these two weeks \n",
    "\n",
    "bo = (X['Year']==2019) & (X['Week']==22)\n",
    "nt = (X['Year']==2020) & (X['Week']==22)\n",
    "\n",
    "## This hard coding the days of the week \n",
    "## Week 22 of 2019 has 2 days \n",
    "## Week 22 of 2020 has 7 days \n",
    "X.loc[bo, 'values'] = 2\n",
    "X.loc[nt, 'values'] = 7\n",
    "\n"
   ]
  },
  {
   "cell_type": "code",
   "execution_count": 20,
   "metadata": {},
   "outputs": [
    {
     "data": {
      "text/html": [
       "<div>\n",
       "<style scoped>\n",
       "    .dataframe tbody tr th:only-of-type {\n",
       "        vertical-align: middle;\n",
       "    }\n",
       "\n",
       "    .dataframe tbody tr th {\n",
       "        vertical-align: top;\n",
       "    }\n",
       "\n",
       "    .dataframe thead th {\n",
       "        text-align: right;\n",
       "    }\n",
       "</style>\n",
       "<table border=\"1\" class=\"dataframe\">\n",
       "  <thead>\n",
       "    <tr style=\"text-align: right;\">\n",
       "      <th></th>\n",
       "      <th>Battery(kW)</th>\n",
       "      <th>State of Charge</th>\n",
       "      <th>Total Net Load (Sum of All Loads excluding Battery)</th>\n",
       "      <th>ts</th>\n",
       "      <th>Building(kW)</th>\n",
       "      <th>Adjusted Load (kW)</th>\n",
       "      <th>Ampere</th>\n",
       "      <th>Voltage</th>\n",
       "      <th>deltaSOC</th>\n",
       "      <th>Year</th>\n",
       "      <th>Week</th>\n",
       "      <th>Hour</th>\n",
       "      <th>Day</th>\n",
       "      <th>values</th>\n",
       "      <th>date</th>\n",
       "    </tr>\n",
       "  </thead>\n",
       "  <tbody>\n",
       "    <tr>\n",
       "      <th>0</th>\n",
       "      <td>-22.800101</td>\n",
       "      <td>0.572250</td>\n",
       "      <td>1975.492339</td>\n",
       "      <td>2019-06-01 04:15:00</td>\n",
       "      <td>1975.492339</td>\n",
       "      <td>1952.692237</td>\n",
       "      <td>2111.85</td>\n",
       "      <td>583.6</td>\n",
       "      <td>0.013387</td>\n",
       "      <td>2019</td>\n",
       "      <td>22</td>\n",
       "      <td>4</td>\n",
       "      <td>5</td>\n",
       "      <td>2</td>\n",
       "      <td>2019-06-01</td>\n",
       "    </tr>\n",
       "    <tr>\n",
       "      <th>1</th>\n",
       "      <td>139.599885</td>\n",
       "      <td>0.585636</td>\n",
       "      <td>1976.813313</td>\n",
       "      <td>2019-06-01 04:30:00</td>\n",
       "      <td>1976.813313</td>\n",
       "      <td>2116.413198</td>\n",
       "      <td>2167.47</td>\n",
       "      <td>582.3</td>\n",
       "      <td>0.013387</td>\n",
       "      <td>2019</td>\n",
       "      <td>22</td>\n",
       "      <td>4</td>\n",
       "      <td>5</td>\n",
       "      <td>2</td>\n",
       "      <td>2019-06-01</td>\n",
       "    </tr>\n",
       "    <tr>\n",
       "      <th>2</th>\n",
       "      <td>-7.200152</td>\n",
       "      <td>0.583871</td>\n",
       "      <td>1995.591711</td>\n",
       "      <td>2019-06-01 04:45:00</td>\n",
       "      <td>1995.591711</td>\n",
       "      <td>1988.391559</td>\n",
       "      <td>2029.17</td>\n",
       "      <td>583.4</td>\n",
       "      <td>-0.001765</td>\n",
       "      <td>2019</td>\n",
       "      <td>22</td>\n",
       "      <td>4</td>\n",
       "      <td>5</td>\n",
       "      <td>2</td>\n",
       "      <td>2019-06-01</td>\n",
       "    </tr>\n",
       "    <tr>\n",
       "      <th>3</th>\n",
       "      <td>-513.599510</td>\n",
       "      <td>0.527619</td>\n",
       "      <td>1945.208337</td>\n",
       "      <td>2019-06-01 05:00:00</td>\n",
       "      <td>1945.208337</td>\n",
       "      <td>1431.608827</td>\n",
       "      <td>1403.33</td>\n",
       "      <td>586.8</td>\n",
       "      <td>-0.056251</td>\n",
       "      <td>2019</td>\n",
       "      <td>22</td>\n",
       "      <td>5</td>\n",
       "      <td>5</td>\n",
       "      <td>2</td>\n",
       "      <td>2019-06-01</td>\n",
       "    </tr>\n",
       "    <tr>\n",
       "      <th>4</th>\n",
       "      <td>128.401671</td>\n",
       "      <td>0.542111</td>\n",
       "      <td>1978.229553</td>\n",
       "      <td>2019-06-01 05:15:00</td>\n",
       "      <td>1978.229553</td>\n",
       "      <td>2106.631224</td>\n",
       "      <td>2208.09</td>\n",
       "      <td>581.9</td>\n",
       "      <td>0.014492</td>\n",
       "      <td>2019</td>\n",
       "      <td>22</td>\n",
       "      <td>5</td>\n",
       "      <td>5</td>\n",
       "      <td>2</td>\n",
       "      <td>2019-06-01</td>\n",
       "    </tr>\n",
       "  </tbody>\n",
       "</table>\n",
       "</div>"
      ],
      "text/plain": [
       "   Battery(kW)  State of Charge  \\\n",
       "0   -22.800101         0.572250   \n",
       "1   139.599885         0.585636   \n",
       "2    -7.200152         0.583871   \n",
       "3  -513.599510         0.527619   \n",
       "4   128.401671         0.542111   \n",
       "\n",
       "   Total Net Load (Sum of All Loads excluding Battery)                  ts  \\\n",
       "0                                        1975.492339   2019-06-01 04:15:00   \n",
       "1                                        1976.813313   2019-06-01 04:30:00   \n",
       "2                                        1995.591711   2019-06-01 04:45:00   \n",
       "3                                        1945.208337   2019-06-01 05:00:00   \n",
       "4                                        1978.229553   2019-06-01 05:15:00   \n",
       "\n",
       "   Building(kW)  Adjusted Load (kW)   Ampere  Voltage  deltaSOC  Year  Week  \\\n",
       "0   1975.492339         1952.692237  2111.85    583.6  0.013387  2019    22   \n",
       "1   1976.813313         2116.413198  2167.47    582.3  0.013387  2019    22   \n",
       "2   1995.591711         1988.391559  2029.17    583.4 -0.001765  2019    22   \n",
       "3   1945.208337         1431.608827  1403.33    586.8 -0.056251  2019    22   \n",
       "4   1978.229553         2106.631224  2208.09    581.9  0.014492  2019    22   \n",
       "\n",
       "   Hour  Day  values        date  \n",
       "0     4    5       2  2019-06-01  \n",
       "1     4    5       2  2019-06-01  \n",
       "2     4    5       2  2019-06-01  \n",
       "3     5    5       2  2019-06-01  \n",
       "4     5    5       2  2019-06-01  "
      ]
     },
     "execution_count": 20,
     "metadata": {},
     "output_type": "execute_result"
    }
   ],
   "source": [
    "## Create a date column that has year-month-day\n",
    "\n",
    "X['date'] = X['ts'].dt.strftime(\"%Y-%m-%d\")\n",
    "X.head()"
   ]
  },
  {
   "cell_type": "code",
   "execution_count": 21,
   "metadata": {},
   "outputs": [],
   "source": [
    "## To avoid changing the initial error\n",
    "## We can assign MN to be X\n",
    "\n",
    "MN = X\n",
    "bv = MN[['Week', 'values','date']].apply(tuple, axis=1)\n",
    "MN['Triple'] = bv \n",
    "\n",
    "bv2 =  MN[['Week', 'values']].apply(tuple, axis = 1)\n",
    "MN['Pairs'] = bv2\n"
   ]
  },
  {
   "cell_type": "code",
   "execution_count": 22,
   "metadata": {},
   "outputs": [
    {
     "data": {
      "text/plain": [
       "array([(1, 7), (2, 7), (3, 7), (4, 7), (5, 7), (6, 7), (7, 7), (8, 7),\n",
       "       (9, 7), (10, 7), (11, 7), (12, 7), (13, 7), (14, 7), (15, 7),\n",
       "       (16, 7), (17, 7), (18, 7), (19, 7), (20, 7), (21, 7), (22, 2),\n",
       "       (22, 7), (23, 7), (24, 7), (25, 7), (26, 7), (27, 7), (28, 7),\n",
       "       (29, 7), (30, 7), (31, 7), (32, 7), (33, 7), (34, 7), (35, 7),\n",
       "       (36, 7), (37, 7), (38, 7), (39, 2), (40, 6), (41, 7), (42, 7),\n",
       "       (43, 7), (44, 7), (45, 7), (46, 7), (47, 7), (48, 7), (49, 7),\n",
       "       (50, 7), (51, 7), (52, 5)], dtype=object)"
      ]
     },
     "execution_count": 22,
     "metadata": {},
     "output_type": "execute_result"
    }
   ],
   "source": [
    "# This is important \n",
    "L = MN['Triple'].unique()\n",
    "\n",
    "el = pd.DataFrame({'We':[x[0] for x in L], 'Va': [x[1] for x in L], 'Date': [x[2] for x in L]})\n",
    "\n",
    "tr = pd.DataFrame(el.groupby(['We','Va']).apply(lambda x: list(x['Date'])))\n",
    "\n",
    "zero = tr.index.get_level_values(0)\n",
    "one = tr.index.get_level_values(1)\n",
    "\n",
    "gt = pd.DataFrame({'X':zero, 'Y':one}).apply(tuple, axis=1)\n",
    "\n",
    "gt.values\n",
    "\n"
   ]
  },
  {
   "cell_type": "code",
   "execution_count": 23,
   "metadata": {},
   "outputs": [],
   "source": [
    "tr['Pairs'] = gt.values\n",
    "tr = tr.reset_index(drop=True).rename(columns = {0: 'lstDates'})\n"
   ]
  },
  {
   "cell_type": "code",
   "execution_count": 24,
   "metadata": {},
   "outputs": [],
   "source": [
    "# The following is how we are separating the data \n",
    "\n",
    "we = [x[0] for x in tr['Pairs']]\n",
    "days = [x[1] for x in tr['Pairs']]\n"
   ]
  },
  {
   "cell_type": "code",
   "execution_count": 25,
   "metadata": {},
   "outputs": [],
   "source": [
    "def trainSplit(dat):\n",
    "    \"\"\"Returns: dates that are suppose to go with\n",
    "       train data\"\"\"\n",
    "    np.random.seed(40)\n",
    "    train = []\n",
    "    we = [x[0] for x in dat['Pairs']] # the number of weeks\n",
    "    days = [x[1] for x in dat['Pairs']] # the number of days\n",
    "    ch = np.random.choice\n",
    "    for i,j in zip(np.arange(len(we)), days):\n",
    "        if j == 2:\n",
    "            train.extend(ch(dat.iloc[i]['lstDates'], 1, replace = False))\n",
    "            #Weeks with 2 days: extend 1 dates\n",
    "       \n",
    "        elif j == 5:\n",
    "            train.extend(ch(dat.iloc[i]['lstDates'], 3, replace = False))\n",
    "             #Weeks with 5 days: extend 3 dates\n",
    "        \n",
    "        elif j == 6:\n",
    "            train.extend(ch(dat.iloc[i]['lstDates'], 3, replace = False))\n",
    "            #Weeks with 6 days: extend 3 dates\n",
    "        \n",
    "        else:\n",
    "            train.extend(ch(dat.iloc[i]['lstDates'], 5, replace = False))\n",
    "            #Weeks with 7 days: extend 5 days\n",
    "    return train\n",
    "\n",
    "# Let's now apply the function into our dataset \n",
    "\n",
    "train_dates = trainSplit(tr)\n"
   ]
  },
  {
   "cell_type": "code",
   "execution_count": 26,
   "metadata": {},
   "outputs": [
    {
     "name": "stdout",
     "output_type": "stream",
     "text": [
      "Percent on training data: 70.66 %\n"
     ]
    }
   ],
   "source": [
    "# The following is the dataframe for training\n",
    "\n",
    "training_data = MN[MN['date'].isin(train_dates)]\n",
    "\n",
    "print(\"Percent on training data:\",np.round(100*(len(training_data)/len(MN)),2), \"%\")\n",
    "\n",
    "## Resetting the index\n",
    "training_data = training_data.reset_index(drop=True)\n"
   ]
  },
  {
   "cell_type": "code",
   "execution_count": 27,
   "metadata": {},
   "outputs": [],
   "source": [
    "# The following is for testing dataset\n",
    "testing_data = MN[MN['date'].isin(train_dates)==False]\n"
   ]
  },
  {
   "cell_type": "code",
   "execution_count": 28,
   "metadata": {},
   "outputs": [],
   "source": [
    "# input_nodes = 2\n",
    "# hidden_nodes = 2\n",
    "# output_nodes = 2\n",
    "\n",
    "\n",
    "# output_order = 3\n",
    "# incoming_weight_from_output = .6\n",
    "# input_order = 2\n",
    "# incoming_weight_from_input = .4\n",
    "\n",
    "# net = neuralnetwork\n",
    "\n"
   ]
  },
  {
   "cell_type": "code",
   "execution_count": 29,
   "metadata": {},
   "outputs": [],
   "source": [
    "## Dropping columns that was used to properly separate data but are no longer needed \n",
    "## to further do analysis in our data \n",
    "\n",
    "train_matlab = training_data.set_index('ts').drop(columns = ['values','date','Triple','Pairs','Year','Total Net Load (Sum of All Loads excluding Battery)'], axis = 1)\n",
    "\n",
    "testing_matlab = testing_data.set_index('ts').drop(columns = ['values','Triple','Pairs','Year','Total Net Load (Sum of All Loads excluding Battery)','date'], axis = 1)\n",
    "\n",
    "## Drop some columns from Dataset \n",
    "\n",
    "dataset = MN.drop(columns = ['values','ts','Triple','Pairs','Year','Total Net Load (Sum of All Loads excluding Battery)','date'], axis = 1)\n",
    "\n",
    "# Use the whole dataset to normalize before splitting \n"
   ]
  },
  {
   "cell_type": "markdown",
   "metadata": {},
   "source": [
    "## 3. Data normalization\n",
    "### including outliers\n",
    "\n",
    "### Note: Week, Hour, and Day columns are also normalized\n",
    "### Further recommendation is to use One-Hot-Encoding for these categorical values \n",
    "\n"
   ]
  },
  {
   "cell_type": "code",
   "execution_count": 30,
   "metadata": {},
   "outputs": [
    {
     "data": {
      "text/html": [
       "<div>\n",
       "<style scoped>\n",
       "    .dataframe tbody tr th:only-of-type {\n",
       "        vertical-align: middle;\n",
       "    }\n",
       "\n",
       "    .dataframe tbody tr th {\n",
       "        vertical-align: top;\n",
       "    }\n",
       "\n",
       "    .dataframe thead th {\n",
       "        text-align: right;\n",
       "    }\n",
       "</style>\n",
       "<table border=\"1\" class=\"dataframe\">\n",
       "  <thead>\n",
       "    <tr style=\"text-align: right;\">\n",
       "      <th></th>\n",
       "      <th>Battery(kW)</th>\n",
       "      <th>State of Charge</th>\n",
       "      <th>Building(kW)</th>\n",
       "      <th>Adjusted Load (kW)</th>\n",
       "      <th>Ampere</th>\n",
       "      <th>Voltage</th>\n",
       "      <th>deltaSOC</th>\n",
       "      <th>Week</th>\n",
       "      <th>Hour</th>\n",
       "      <th>Day</th>\n",
       "    </tr>\n",
       "    <tr>\n",
       "      <th>ts</th>\n",
       "      <th></th>\n",
       "      <th></th>\n",
       "      <th></th>\n",
       "      <th></th>\n",
       "      <th></th>\n",
       "      <th></th>\n",
       "      <th></th>\n",
       "      <th></th>\n",
       "      <th></th>\n",
       "      <th></th>\n",
       "    </tr>\n",
       "  </thead>\n",
       "  <tbody>\n",
       "    <tr>\n",
       "      <th>2019-06-01 04:15:00</th>\n",
       "      <td>-0.005796</td>\n",
       "      <td>0.144499</td>\n",
       "      <td>0.696776</td>\n",
       "      <td>0.684906</td>\n",
       "      <td>0.634120</td>\n",
       "      <td>0.124519</td>\n",
       "      <td>0.013388</td>\n",
       "      <td>-0.176471</td>\n",
       "      <td>-0.652174</td>\n",
       "      <td>0.666667</td>\n",
       "    </tr>\n",
       "    <tr>\n",
       "      <th>2019-06-01 04:30:00</th>\n",
       "      <td>0.121377</td>\n",
       "      <td>0.171272</td>\n",
       "      <td>0.697911</td>\n",
       "      <td>0.813409</td>\n",
       "      <td>0.678746</td>\n",
       "      <td>0.091142</td>\n",
       "      <td>0.013388</td>\n",
       "      <td>-0.176471</td>\n",
       "      <td>-0.652174</td>\n",
       "      <td>0.666667</td>\n",
       "    </tr>\n",
       "    <tr>\n",
       "      <th>2019-06-01 04:45:00</th>\n",
       "      <td>0.006420</td>\n",
       "      <td>0.167741</td>\n",
       "      <td>0.714041</td>\n",
       "      <td>0.712926</td>\n",
       "      <td>0.567783</td>\n",
       "      <td>0.119384</td>\n",
       "      <td>-0.001765</td>\n",
       "      <td>-0.176471</td>\n",
       "      <td>-0.652174</td>\n",
       "      <td>0.666667</td>\n",
       "    </tr>\n",
       "    <tr>\n",
       "      <th>2019-06-01 05:00:00</th>\n",
       "      <td>-0.390134</td>\n",
       "      <td>0.055239</td>\n",
       "      <td>0.670763</td>\n",
       "      <td>0.275912</td>\n",
       "      <td>0.065651</td>\n",
       "      <td>0.206675</td>\n",
       "      <td>-0.056255</td>\n",
       "      <td>-0.176471</td>\n",
       "      <td>-0.565217</td>\n",
       "      <td>0.666667</td>\n",
       "    </tr>\n",
       "    <tr>\n",
       "      <th>2019-06-01 05:15:00</th>\n",
       "      <td>0.112608</td>\n",
       "      <td>0.084222</td>\n",
       "      <td>0.699128</td>\n",
       "      <td>0.805731</td>\n",
       "      <td>0.711337</td>\n",
       "      <td>0.080873</td>\n",
       "      <td>0.014493</td>\n",
       "      <td>-0.176471</td>\n",
       "      <td>-0.565217</td>\n",
       "      <td>0.666667</td>\n",
       "    </tr>\n",
       "  </tbody>\n",
       "</table>\n",
       "</div>"
      ],
      "text/plain": [
       "                     Battery(kW)  State of Charge  Building(kW)  \\\n",
       "ts                                                                \n",
       "2019-06-01 04:15:00    -0.005796         0.144499      0.696776   \n",
       "2019-06-01 04:30:00     0.121377         0.171272      0.697911   \n",
       "2019-06-01 04:45:00     0.006420         0.167741      0.714041   \n",
       "2019-06-01 05:00:00    -0.390134         0.055239      0.670763   \n",
       "2019-06-01 05:15:00     0.112608         0.084222      0.699128   \n",
       "\n",
       "                     Adjusted Load (kW)    Ampere   Voltage  deltaSOC  \\\n",
       "ts                                                                      \n",
       "2019-06-01 04:15:00            0.684906  0.634120  0.124519  0.013388   \n",
       "2019-06-01 04:30:00            0.813409  0.678746  0.091142  0.013388   \n",
       "2019-06-01 04:45:00            0.712926  0.567783  0.119384 -0.001765   \n",
       "2019-06-01 05:00:00            0.275912  0.065651  0.206675 -0.056255   \n",
       "2019-06-01 05:15:00            0.805731  0.711337  0.080873  0.014493   \n",
       "\n",
       "                         Week      Hour       Day  \n",
       "ts                                                 \n",
       "2019-06-01 04:15:00 -0.176471 -0.652174  0.666667  \n",
       "2019-06-01 04:30:00 -0.176471 -0.652174  0.666667  \n",
       "2019-06-01 04:45:00 -0.176471 -0.652174  0.666667  \n",
       "2019-06-01 05:00:00 -0.176471 -0.565217  0.666667  \n",
       "2019-06-01 05:15:00 -0.176471 -0.565217  0.666667  "
      ]
     },
     "execution_count": 30,
     "metadata": {},
     "output_type": "execute_result"
    }
   ],
   "source": [
    "stats3 = dataset.describe()\n",
    "stats3 = stats3.transpose()\n",
    "\n",
    "def norm5(data):\n",
    "    return (2*(data - stats3['min'])/(stats3['max']-stats3['min']) - 1)\n",
    "\n",
    "train_normalized = norm5(train_matlab)\n",
    "test_normalized = norm5(testing_matlab)\n",
    "train_normalized.head()\n",
    "\n",
    "## Uncomment for saving CSV files \n",
    "\n",
    "# train_normalized.to_csv('train_normalized')\n",
    "# test_normalized.to_csv('test_normalized')\n"
   ]
  },
  {
   "cell_type": "markdown",
   "metadata": {},
   "source": [
    "### Without outliers \n",
    "#### Outliers: considered to be delta SOC values that are above 0.5 and below -0.5 \n",
    "#### There is a total (train + test sets) of 10 outliers \n",
    "\n"
   ]
  },
  {
   "cell_type": "code",
   "execution_count": 31,
   "metadata": {},
   "outputs": [],
   "source": [
    "#train_normalized.to_csv('training_normalized')\n",
    "\n",
    "# Train set \n",
    "tr_outli = (train_normalized['deltaSOC']>0.5)|(train_normalized['deltaSOC']<-0.5)\n",
    "train_normalized2 = train_normalized[~tr_outli]\n",
    "\n",
    "# Testing set\n",
    "te_outli = (test_normalized['deltaSOC']>0.5)|(test_normalized['deltaSOC']<-0.5)\n",
    "test_normalized2 = test_normalized[~te_outli]\n",
    "\n",
    "## Uncomment for saving CSV files \n",
    "\n",
    "# train_normalized2.to_csv('train_normalized2')\n",
    "# test_normalized2.to_csv('test_normalized2')\n"
   ]
  },
  {
   "cell_type": "code",
   "execution_count": 32,
   "metadata": {},
   "outputs": [
    {
     "data": {
      "text/plain": [
       "Text(0.5, 1.0, 'Testing: deltaSOC')"
      ]
     },
     "execution_count": 32,
     "metadata": {},
     "output_type": "execute_result"
    },
    {
     "data": {
      "image/png": "[encoded data removed]",
      "text/plain": [
       "<Figure size 432x288 with 1 Axes>"
      ]
     },
     "metadata": {
      "needs_background": "light"
     },
     "output_type": "display_data"
    }
   ],
   "source": [
    "plt.scatter(np.arange(len(test_normalized2)),test_normalized2['deltaSOC'][0:len(test_normalized2)])\n",
    "plt.ylabel('Change of SOC')\n",
    "plt.xlabel('Row in data')\n",
    "plt.title('Testing: deltaSOC')\n",
    "\n"
   ]
  },
  {
   "cell_type": "code",
   "execution_count": 33,
   "metadata": {},
   "outputs": [
    {
     "data": {
      "text/plain": [
       "Text(0.5, 1.0, 'Training: Battery power')"
      ]
     },
     "execution_count": 33,
     "metadata": {},
     "output_type": "execute_result"
    },
    {
     "data": {
      "image/png": "[encoded data removed]",
      "text/plain": [
       "<Figure size 432x288 with 1 Axes>"
      ]
     },
     "metadata": {
      "needs_background": "light"
     },
     "output_type": "display_data"
    }
   ],
   "source": [
    "plt.plot(np.arange(len(train_normalized2)),train_normalized2['Battery(kW)'][0:len(train_normalized)])\n",
    "plt.ylabel('kW Normalized')\n",
    "plt.xlabel('Row in data')\n",
    "plt.title('Training: Battery power')\n",
    "\n"
   ]
  },
  {
   "cell_type": "code",
   "execution_count": 34,
   "metadata": {},
   "outputs": [
    {
     "data": {
      "text/plain": [
       "Text(0.5, 1.0, 'Test: Battery power')"
      ]
     },
     "execution_count": 34,
     "metadata": {},
     "output_type": "execute_result"
    },
    {
     "data": {
      "image/png": "[encoded data removed]",
      "text/plain": [
       "<Figure size 432x288 with 1 Axes>"
      ]
     },
     "metadata": {
      "needs_background": "light"
     },
     "output_type": "display_data"
    }
   ],
   "source": [
    "plt.plot(np.arange(len(test_normalized2)),test_normalized2['Battery(kW)'][0:len(test_normalized2)])\n",
    "plt.ylabel('kW Normalized')\n",
    "plt.xlabel('Row in data')\n",
    "plt.title('Test: Battery power')"
   ]
  }
 ],
 "metadata": {
  "kernelspec": {
   "display_name": "Python 3",
   "language": "python",
   "name": "python3"
  },
  "language_info": {
   "codemirror_mode": {
    "name": "ipython",
    "version": 3
   },
   "file_extension": ".py",
   "mimetype": "text/x-python",
   "name": "python",
   "nbconvert_exporter": "python",
   "pygments_lexer": "ipython3",
   "version": "3.7.1"
  }
 },
 "nbformat": 4,
 "nbformat_minor": 2
}
